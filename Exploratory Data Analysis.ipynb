{
 "cells": [
  {
   "cell_type": "code",
   "execution_count": 1,
   "id": "bfa9ecb2",
   "metadata": {},
   "outputs": [],
   "source": [
    "import pandas as pd\n",
    "import numpy as np\n",
    "import datetime as dt\n",
    "import matplotlib.pyplot as plt\n",
    "import seaborn as sns\n",
    "import warnings\n",
    "warnings.filterwarnings(\"ignore\")"
   ]
  },
  {
   "cell_type": "code",
   "execution_count": 2,
   "id": "f60f0580",
   "metadata": {},
   "outputs": [],
   "source": [
    "orders = pd.read_csv('Case Study - Logistics Analytics - data - CSVs/orders.csv')\n",
    "contacts = pd.read_csv('Case Study - Logistics Analytics - data - CSVs/contacts.csv')\n",
    "deliveries = pd.read_csv('Case Study - Logistics Analytics - data - CSVs/deliveries.csv')\n",
    "cancellations = pd.read_csv('Case Study - Logistics Analytics - data - CSVs/cancellations.csv')"
   ]
  },
  {
   "cell_type": "code",
   "execution_count": 3,
   "id": "d49586ea",
   "metadata": {},
   "outputs": [
    {
     "data": {
      "text/html": [
       "<div>\n",
       "<style scoped>\n",
       "    .dataframe tbody tr th:only-of-type {\n",
       "        vertical-align: middle;\n",
       "    }\n",
       "\n",
       "    .dataframe tbody tr th {\n",
       "        vertical-align: top;\n",
       "    }\n",
       "\n",
       "    .dataframe thead th {\n",
       "        text-align: right;\n",
       "    }\n",
       "</style>\n",
       "<table border=\"1\" class=\"dataframe\">\n",
       "  <thead>\n",
       "    <tr style=\"text-align: right;\">\n",
       "      <th></th>\n",
       "      <th>country_code</th>\n",
       "      <th>enc_order_id</th>\n",
       "      <th>enc_customer_id</th>\n",
       "      <th>vertical</th>\n",
       "      <th>order_placed_at</th>\n",
       "      <th>status</th>\n",
       "      <th>order_value</th>\n",
       "    </tr>\n",
       "  </thead>\n",
       "  <tbody>\n",
       "    <tr>\n",
       "      <th>0</th>\n",
       "      <td>MY</td>\n",
       "      <td>e3efd320f9b7</td>\n",
       "      <td>44d967520153</td>\n",
       "      <td>Restaurants</td>\n",
       "      <td>2021-03-29 04:50:36 UTC</td>\n",
       "      <td>DELIVERED</td>\n",
       "      <td>2.00</td>\n",
       "    </tr>\n",
       "    <tr>\n",
       "      <th>1</th>\n",
       "      <td>MY</td>\n",
       "      <td>7147c1ffac6f</td>\n",
       "      <td>96848de95c01</td>\n",
       "      <td>Restaurants</td>\n",
       "      <td>2021-03-27 07:49:51 UTC</td>\n",
       "      <td>DELIVERED</td>\n",
       "      <td>2.07</td>\n",
       "    </tr>\n",
       "    <tr>\n",
       "      <th>2</th>\n",
       "      <td>MY</td>\n",
       "      <td>79343f6c20af</td>\n",
       "      <td>2e0142712577</td>\n",
       "      <td>Groceries</td>\n",
       "      <td>2021-03-03 08:25:52 UTC</td>\n",
       "      <td>DELIVERED</td>\n",
       "      <td>2.74</td>\n",
       "    </tr>\n",
       "    <tr>\n",
       "      <th>3</th>\n",
       "      <td>MY</td>\n",
       "      <td>439217952d53</td>\n",
       "      <td>fc8759fabaa8</td>\n",
       "      <td>Restaurants</td>\n",
       "      <td>2021-03-16 05:32:37 UTC</td>\n",
       "      <td>DELIVERED</td>\n",
       "      <td>2.04</td>\n",
       "    </tr>\n",
       "    <tr>\n",
       "      <th>4</th>\n",
       "      <td>MY</td>\n",
       "      <td>3eeb2e8008b5</td>\n",
       "      <td>13e582c8cd6d</td>\n",
       "      <td>Restaurants</td>\n",
       "      <td>2021-03-24 07:22:14 UTC</td>\n",
       "      <td>DELIVERED</td>\n",
       "      <td>2.90</td>\n",
       "    </tr>\n",
       "  </tbody>\n",
       "</table>\n",
       "</div>"
      ],
      "text/plain": [
       "  country_code  enc_order_id enc_customer_id     vertical  \\\n",
       "0           MY  e3efd320f9b7    44d967520153  Restaurants   \n",
       "1           MY  7147c1ffac6f    96848de95c01  Restaurants   \n",
       "2           MY  79343f6c20af    2e0142712577    Groceries   \n",
       "3           MY  439217952d53    fc8759fabaa8  Restaurants   \n",
       "4           MY  3eeb2e8008b5    13e582c8cd6d  Restaurants   \n",
       "\n",
       "           order_placed_at     status  order_value  \n",
       "0  2021-03-29 04:50:36 UTC  DELIVERED         2.00  \n",
       "1  2021-03-27 07:49:51 UTC  DELIVERED         2.07  \n",
       "2  2021-03-03 08:25:52 UTC  DELIVERED         2.74  \n",
       "3  2021-03-16 05:32:37 UTC  DELIVERED         2.04  \n",
       "4  2021-03-24 07:22:14 UTC  DELIVERED         2.90  "
      ]
     },
     "execution_count": 3,
     "metadata": {},
     "output_type": "execute_result"
    }
   ],
   "source": [
    "orders.head()"
   ]
  },
  {
   "cell_type": "code",
   "execution_count": 4,
   "id": "956e6b07",
   "metadata": {},
   "outputs": [
    {
     "name": "stdout",
     "output_type": "stream",
     "text": [
      "The data has 3460862 rows and 7 columns\n"
     ]
    }
   ],
   "source": [
    "print ('The data has {0} rows and {1} columns'.format(orders.shape[0],orders.shape[1]))"
   ]
  },
  {
   "cell_type": "code",
   "execution_count": 5,
   "id": "96c5b77a",
   "metadata": {},
   "outputs": [
    {
     "name": "stdout",
     "output_type": "stream",
     "text": [
      "<class 'pandas.core.frame.DataFrame'>\n",
      "RangeIndex: 3460862 entries, 0 to 3460861\n",
      "Data columns (total 7 columns):\n",
      " #   Column           Dtype  \n",
      "---  ------           -----  \n",
      " 0   country_code     object \n",
      " 1   enc_order_id     object \n",
      " 2   enc_customer_id  object \n",
      " 3   vertical         object \n",
      " 4   order_placed_at  object \n",
      " 5   status           object \n",
      " 6   order_value      float64\n",
      "dtypes: float64(1), object(6)\n",
      "memory usage: 184.8+ MB\n"
     ]
    }
   ],
   "source": [
    "orders.info()"
   ]
  },
  {
   "cell_type": "code",
   "execution_count": 6,
   "id": "ee4978aa",
   "metadata": {},
   "outputs": [
    {
     "name": "stdout",
     "output_type": "stream",
     "text": [
      "Order data ranges from 2021-03-01 to 2021-03-31\n"
     ]
    }
   ],
   "source": [
    "orders['order_placed_at'] = pd.to_datetime(orders['order_placed_at'],format='mixed')\n",
    "\n",
    "min_date = orders['order_placed_at'].min()\n",
    "max_date = orders['order_placed_at'].max()\n",
    "\n",
    "print(f\"Order data ranges from {min_date.date()} to {max_date.date()}\")"
   ]
  },
  {
   "cell_type": "markdown",
   "id": "e25498aa",
   "metadata": {},
   "source": [
    "### selecting duplicate rows except first; occurrence based on all columns"
   ]
  },
  {
   "cell_type": "code",
   "execution_count": 7,
   "id": "d25ab06e",
   "metadata": {},
   "outputs": [
    {
     "name": "stdout",
     "output_type": "stream",
     "text": [
      "Duplicate Rows: 0\n"
     ]
    }
   ],
   "source": [
    "duplicate = orders[orders.duplicated()]\n",
    "print(\"Duplicate Rows:\", duplicate.shape[0])"
   ]
  },
  {
   "cell_type": "markdown",
   "id": "f41064cb",
   "metadata": {},
   "source": [
    "### check missing values"
   ]
  },
  {
   "cell_type": "code",
   "execution_count": 8,
   "id": "b14ecdfb",
   "metadata": {},
   "outputs": [
    {
     "data": {
      "text/plain": [
       "Index(['enc_customer_id', 'vertical'], dtype='object')"
      ]
     },
     "execution_count": 8,
     "metadata": {},
     "output_type": "execute_result"
    }
   ],
   "source": [
    "orders.columns[orders.isnull().any()]"
   ]
  },
  {
   "cell_type": "markdown",
   "id": "7fc50391",
   "metadata": {},
   "source": [
    "### missing value counts in each of these columns"
   ]
  },
  {
   "cell_type": "code",
   "execution_count": 9,
   "id": "574dcd1e",
   "metadata": {},
   "outputs": [
    {
     "data": {
      "text/plain": [
       "enc_customer_id    0.000005\n",
       "vertical           0.000005\n",
       "dtype: float64"
      ]
     },
     "execution_count": 9,
     "metadata": {},
     "output_type": "execute_result"
    }
   ],
   "source": [
    "miss = orders.isnull().sum()/len(orders)\n",
    "miss = miss[miss > 0]\n",
    "miss.sort_values(inplace=True)\n",
    "miss"
   ]
  },
  {
   "cell_type": "code",
   "execution_count": 10,
   "id": "960524bd",
   "metadata": {},
   "outputs": [
    {
     "data": {
      "text/plain": [
       "3460859"
      ]
     },
     "execution_count": 10,
     "metadata": {},
     "output_type": "execute_result"
    }
   ],
   "source": [
    "orders['enc_order_id'].nunique()"
   ]
  },
  {
   "cell_type": "code",
   "execution_count": 11,
   "id": "6794d115",
   "metadata": {},
   "outputs": [
    {
     "data": {
      "text/plain": [
       "array(['DELIVERED', 'CANCELLED'], dtype=object)"
      ]
     },
     "execution_count": 11,
     "metadata": {},
     "output_type": "execute_result"
    }
   ],
   "source": [
    "orders['status'].unique()"
   ]
  },
  {
   "cell_type": "code",
   "execution_count": 12,
   "id": "13b4aeeb",
   "metadata": {},
   "outputs": [
    {
     "data": {
      "text/plain": [
       "array(['CANCELLED'], dtype=object)"
      ]
     },
     "execution_count": 12,
     "metadata": {},
     "output_type": "execute_result"
    }
   ],
   "source": [
    "orders[orders['vertical'].isnull()==True]['status'].unique()"
   ]
  },
  {
   "cell_type": "code",
   "execution_count": 13,
   "id": "f35e9089",
   "metadata": {},
   "outputs": [
    {
     "data": {
      "text/plain": [
       "country_code\n",
       "TH    1754447\n",
       "MY    1706415\n",
       "Name: count, dtype: int64"
      ]
     },
     "execution_count": 13,
     "metadata": {},
     "output_type": "execute_result"
    }
   ],
   "source": [
    "orders['country_code'].value_counts()"
   ]
  },
  {
   "cell_type": "code",
   "execution_count": 14,
   "id": "6ef1f675",
   "metadata": {},
   "outputs": [
    {
     "data": {
      "text/plain": [
       "country_code\n",
       "TH    50.693931\n",
       "MY    49.306069\n",
       "Name: count, dtype: float64"
      ]
     },
     "execution_count": 14,
     "metadata": {},
     "output_type": "execute_result"
    }
   ],
   "source": [
    "(orders['country_code'].value_counts() / orders.shape[0]) * 100"
   ]
  },
  {
   "cell_type": "markdown",
   "id": "1c53b06d",
   "metadata": {},
   "source": [
    "### Order Distribution by Country"
   ]
  },
  {
   "cell_type": "code",
   "execution_count": 15,
   "id": "b301cd4b",
   "metadata": {},
   "outputs": [
    {
     "data": {
      "image/png": "[encoded data removed]",
      "text/plain": [
       "<Figure size 300x300 with 2 Axes>"
      ]
     },
     "metadata": {},
     "output_type": "display_data"
    }
   ],
   "source": [
    "plt.figure(figsize = (3, 3))\n",
    "plt.title('Order Distribution')\n",
    "plt.ylabel('Frequency [%]')\n",
    "c_percent = orders.country_code.value_counts(normalize=True).sort_index() * 100\n",
    "colors = sns.color_palette(\"Set2\", n_colors=len(c_percent))\n",
    "\n",
    "ax = (orders.country_code.value_counts()/len(orders)*100).sort_index().plot(kind = \"bar\", rot = 0, color = colors)\n",
    "ax.set_yticks(np.arange(0, 110, 10))\n",
    "\n",
    "ax2 = ax.twinx()\n",
    "ax2.set_yticks(np.arange(0, 110, 10)*len(orders)/100)\n",
    "\n",
    "for p in ax.patches:\n",
    "    ax.annotate('{:.2f}%'.format(p.get_height()), (p.get_x()+0.15, p.get_height()+1))"
   ]
  },
  {
   "cell_type": "code",
   "execution_count": 16,
   "id": "8c23b906",
   "metadata": {},
   "outputs": [
    {
     "data": {
      "text/plain": [
       "country_code  status   \n",
       "MY            DELIVERED    1630590\n",
       "              CANCELLED      75825\n",
       "TH            DELIVERED    1704552\n",
       "              CANCELLED      49895\n",
       "Name: count, dtype: int64"
      ]
     },
     "execution_count": 16,
     "metadata": {},
     "output_type": "execute_result"
    }
   ],
   "source": [
    "orders.groupby('country_code')['status'].value_counts()"
   ]
  },
  {
   "cell_type": "code",
   "execution_count": 17,
   "id": "e305a7cb",
   "metadata": {},
   "outputs": [
    {
     "data": {
      "text/plain": [
       "vertical\n",
       "Restaurants    3317927\n",
       "Local shops      76960\n",
       "Groceries        65957\n",
       "Name: count, dtype: int64"
      ]
     },
     "execution_count": 17,
     "metadata": {},
     "output_type": "execute_result"
    }
   ],
   "source": [
    "orders['vertical'].value_counts() "
   ]
  },
  {
   "cell_type": "code",
   "execution_count": 18,
   "id": "7cd14a2f",
   "metadata": {},
   "outputs": [
    {
     "data": {
      "text/plain": [
       "vertical     status   \n",
       "Groceries    DELIVERED      63954\n",
       "             CANCELLED       2003\n",
       "Local shops  DELIVERED      63303\n",
       "             CANCELLED      13657\n",
       "Restaurants  DELIVERED    3207885\n",
       "             CANCELLED     110042\n",
       "Name: count, dtype: int64"
      ]
     },
     "execution_count": 18,
     "metadata": {},
     "output_type": "execute_result"
    }
   ],
   "source": [
    "orders.groupby('vertical')['status'].value_counts()"
   ]
  },
  {
   "cell_type": "markdown",
   "id": "c79eed13",
   "metadata": {},
   "source": [
    "### Order Distribution by vertical"
   ]
  },
  {
   "cell_type": "code",
   "execution_count": 19,
   "id": "a63ed0ac",
   "metadata": {},
   "outputs": [
    {
     "data": {
      "image/png": "[encoded data removed]",
      "text/plain": [
       "<Figure size 400x400 with 2 Axes>"
      ]
     },
     "metadata": {},
     "output_type": "display_data"
    }
   ],
   "source": [
    "plt.figure(figsize = (4, 4))\n",
    "plt.title('Order Distribution')\n",
    "plt.ylabel('Frequency [%]')\n",
    "\n",
    "c_percent = orders.vertical.value_counts(normalize=True).sort_index() * 100\n",
    "colors = sns.color_palette(\"Set2\", n_colors=len(c_percent))\n",
    "\n",
    "\n",
    "ax = (orders.vertical.value_counts()/len(orders)*100).sort_index().plot(kind = \"bar\", rot = 0, color = colors)\n",
    "ax.set_yticks(np.arange(0, 110, 10))\n",
    "\n",
    "ax2 = ax.twinx()\n",
    "ax2.set_yticks(np.arange(0, 110, 10)*len(orders)/100)\n",
    "\n",
    "for p in ax.patches:\n",
    "    ax.annotate('{:.2f}%'.format(p.get_height()), (p.get_x()+0.15, p.get_height()+1))"
   ]
  },
  {
   "cell_type": "code",
   "execution_count": 20,
   "id": "ea2878e9",
   "metadata": {},
   "outputs": [
    {
     "data": {
      "text/plain": [
       "count    3.460862e+06\n",
       "mean     2.196851e+00\n",
       "std      4.916334e+00\n",
       "min      0.000000e+00\n",
       "25%      7.300000e-01\n",
       "50%      1.510000e+00\n",
       "75%      2.820000e+00\n",
       "max      4.673280e+03\n",
       "Name: order_value, dtype: float64"
      ]
     },
     "execution_count": 20,
     "metadata": {},
     "output_type": "execute_result"
    }
   ],
   "source": [
    "orders['order_value'].describe()"
   ]
  },
  {
   "cell_type": "code",
   "execution_count": 21,
   "id": "75885fbe",
   "metadata": {},
   "outputs": [
    {
     "data": {
      "text/plain": [
       "status\n",
       "DELIVERED    3335142\n",
       "CANCELLED     125720\n",
       "Name: count, dtype: int64"
      ]
     },
     "execution_count": 21,
     "metadata": {},
     "output_type": "execute_result"
    }
   ],
   "source": [
    "orders['status'].value_counts() "
   ]
  },
  {
   "cell_type": "code",
   "execution_count": 22,
   "id": "9405f2fa",
   "metadata": {},
   "outputs": [
    {
     "data": {
      "text/plain": [
       "status\n",
       "DELIVERED    96.367379\n",
       "CANCELLED     3.632621\n",
       "Name: count, dtype: float64"
      ]
     },
     "execution_count": 22,
     "metadata": {},
     "output_type": "execute_result"
    }
   ],
   "source": [
    "(orders['status'].value_counts() / orders.shape[0]) * 100"
   ]
  },
  {
   "cell_type": "markdown",
   "id": "a0b1fd4c",
   "metadata": {},
   "source": [
    "### Order Distribution by Status"
   ]
  },
  {
   "cell_type": "code",
   "execution_count": 23,
   "id": "6e20c596",
   "metadata": {},
   "outputs": [
    {
     "data": {
      "image/png": "[encoded data removed]",
      "text/plain": [
       "<Figure size 300x300 with 2 Axes>"
      ]
     },
     "metadata": {},
     "output_type": "display_data"
    }
   ],
   "source": [
    "plt.figure(figsize = (3, 3))\n",
    "plt.title('Order Distribution')\n",
    "plt.ylabel('Frequency [%]')\n",
    "c_percent = orders.status.value_counts(normalize=True).sort_index() * 100\n",
    "colors = sns.color_palette(\"Set2\", n_colors=len(c_percent))\n",
    "\n",
    "ax = (orders.status.value_counts()/len(orders)*100).sort_index().plot(kind = \"bar\", rot = 0, color=colors)\n",
    "ax.set_yticks(np.arange(0, 110, 10))\n",
    "\n",
    "ax2 = ax.twinx()\n",
    "ax2.set_yticks(np.arange(0, 110, 10)*len(orders)/100)\n",
    "\n",
    "for p in ax.patches:\n",
    "    ax.annotate('{:.2f}%'.format(p.get_height()), (p.get_x()+0.15, p.get_height()+1))"
   ]
  },
  {
   "cell_type": "code",
   "execution_count": 24,
   "id": "7eb68e52",
   "metadata": {
    "scrolled": true
   },
   "outputs": [
    {
     "data": {
      "text/plain": [
       "3460844"
      ]
     },
     "execution_count": 24,
     "metadata": {},
     "output_type": "execute_result"
    }
   ],
   "source": [
    "orders['enc_customer_id'].count()"
   ]
  },
  {
   "cell_type": "code",
   "execution_count": 25,
   "id": "50ad2df4",
   "metadata": {},
   "outputs": [],
   "source": [
    "a = orders['order_value'].quantile(0.99)\n",
    "b = orders[orders['order_value']<a]"
   ]
  },
  {
   "cell_type": "code",
   "execution_count": 26,
   "id": "6ce0c76c",
   "metadata": {},
   "outputs": [
    {
     "data": {
      "text/plain": [
       "count    3.426190e+06\n",
       "mean     2.047979e+00\n",
       "std      1.894432e+00\n",
       "min      0.000000e+00\n",
       "25%      7.200000e-01\n",
       "50%      1.490000e+00\n",
       "75%      2.760000e+00\n",
       "max      1.146000e+01\n",
       "Name: order_value, dtype: float64"
      ]
     },
     "execution_count": 26,
     "metadata": {},
     "output_type": "execute_result"
    }
   ],
   "source": [
    "b['order_value'].describe()"
   ]
  },
  {
   "cell_type": "code",
   "execution_count": 27,
   "id": "6c229287",
   "metadata": {},
   "outputs": [
    {
     "data": {
      "text/html": [
       "<div>\n",
       "<style scoped>\n",
       "    .dataframe tbody tr th:only-of-type {\n",
       "        vertical-align: middle;\n",
       "    }\n",
       "\n",
       "    .dataframe tbody tr th {\n",
       "        vertical-align: top;\n",
       "    }\n",
       "\n",
       "    .dataframe thead th {\n",
       "        text-align: right;\n",
       "    }\n",
       "</style>\n",
       "<table border=\"1\" class=\"dataframe\">\n",
       "  <thead>\n",
       "    <tr style=\"text-align: right;\">\n",
       "      <th></th>\n",
       "      <th>count</th>\n",
       "      <th>mean</th>\n",
       "      <th>std</th>\n",
       "      <th>min</th>\n",
       "      <th>25%</th>\n",
       "      <th>50%</th>\n",
       "      <th>75%</th>\n",
       "      <th>max</th>\n",
       "    </tr>\n",
       "    <tr>\n",
       "      <th>status</th>\n",
       "      <th></th>\n",
       "      <th></th>\n",
       "      <th></th>\n",
       "      <th></th>\n",
       "      <th></th>\n",
       "      <th></th>\n",
       "      <th></th>\n",
       "      <th></th>\n",
       "    </tr>\n",
       "  </thead>\n",
       "  <tbody>\n",
       "    <tr>\n",
       "      <th>CANCELLED</th>\n",
       "      <td>123435.0</td>\n",
       "      <td>2.210934</td>\n",
       "      <td>2.101793</td>\n",
       "      <td>0.0</td>\n",
       "      <td>0.69</td>\n",
       "      <td>1.60</td>\n",
       "      <td>3.07</td>\n",
       "      <td>11.46</td>\n",
       "    </tr>\n",
       "    <tr>\n",
       "      <th>DELIVERED</th>\n",
       "      <td>3302755.0</td>\n",
       "      <td>2.041889</td>\n",
       "      <td>1.885968</td>\n",
       "      <td>0.0</td>\n",
       "      <td>0.72</td>\n",
       "      <td>1.49</td>\n",
       "      <td>2.75</td>\n",
       "      <td>11.46</td>\n",
       "    </tr>\n",
       "  </tbody>\n",
       "</table>\n",
       "</div>"
      ],
      "text/plain": [
       "               count      mean       std  min   25%   50%   75%    max\n",
       "status                                                                \n",
       "CANCELLED   123435.0  2.210934  2.101793  0.0  0.69  1.60  3.07  11.46\n",
       "DELIVERED  3302755.0  2.041889  1.885968  0.0  0.72  1.49  2.75  11.46"
      ]
     },
     "execution_count": 27,
     "metadata": {},
     "output_type": "execute_result"
    }
   ],
   "source": [
    "b.groupby('status')['order_value'].describe()"
   ]
  },
  {
   "cell_type": "code",
   "execution_count": 28,
   "id": "1a1b435d",
   "metadata": {
    "scrolled": true
   },
   "outputs": [
    {
     "data": {
      "image/png": "[encoded data removed]",
      "text/plain": [
       "<Figure size 300x300 with 1 Axes>"
      ]
     },
     "metadata": {},
     "output_type": "display_data"
    }
   ],
   "source": [
    "plt.figure(figsize=(3, 3))\n",
    "sns.boxplot(data=b, x='status', y='order_value', palette='Set3')\n",
    "\n",
    "plt.title('Order Value Distribution by Order Status')\n",
    "plt.xlabel('Order Status')\n",
    "plt.ylabel('Order Value')\n",
    "plt.grid(axis='y', linestyle='--', alpha=0.5)\n",
    "plt.tight_layout()\n",
    "plt.show()"
   ]
  },
  {
   "cell_type": "code",
   "execution_count": 29,
   "id": "5cea49c9",
   "metadata": {},
   "outputs": [
    {
     "data": {
      "text/plain": [
       "13504"
      ]
     },
     "execution_count": 29,
     "metadata": {},
     "output_type": "execute_result"
    }
   ],
   "source": [
    "orders[orders['order_value']==0]['enc_order_id'].count()"
   ]
  },
  {
   "cell_type": "code",
   "execution_count": 30,
   "id": "23c145f6",
   "metadata": {},
   "outputs": [
    {
     "data": {
      "text/plain": [
       "status\n",
       "DELIVERED    7862\n",
       "CANCELLED    5642\n",
       "Name: count, dtype: int64"
      ]
     },
     "execution_count": 30,
     "metadata": {},
     "output_type": "execute_result"
    }
   ],
   "source": [
    "orders[orders['order_value']==0]['status'].value_counts()"
   ]
  },
  {
   "cell_type": "markdown",
   "id": "abd51b60",
   "metadata": {},
   "source": [
    "# Cancellation Data"
   ]
  },
  {
   "cell_type": "code",
   "execution_count": 31,
   "id": "252bc4c4",
   "metadata": {
    "scrolled": true
   },
   "outputs": [
    {
     "data": {
      "text/html": [
       "<div>\n",
       "<style scoped>\n",
       "    .dataframe tbody tr th:only-of-type {\n",
       "        vertical-align: middle;\n",
       "    }\n",
       "\n",
       "    .dataframe tbody tr th {\n",
       "        vertical-align: top;\n",
       "    }\n",
       "\n",
       "    .dataframe thead th {\n",
       "        text-align: right;\n",
       "    }\n",
       "</style>\n",
       "<table border=\"1\" class=\"dataframe\">\n",
       "  <thead>\n",
       "    <tr style=\"text-align: right;\">\n",
       "      <th></th>\n",
       "      <th>country_code</th>\n",
       "      <th>enc_order_id</th>\n",
       "      <th>cancelled_at</th>\n",
       "      <th>cancellation_owner</th>\n",
       "    </tr>\n",
       "  </thead>\n",
       "  <tbody>\n",
       "    <tr>\n",
       "      <th>0</th>\n",
       "      <td>MY</td>\n",
       "      <td>7f48cfad6f3e</td>\n",
       "      <td>2021-03-19 03:30:25.821513 UTC</td>\n",
       "      <td>RIDER</td>\n",
       "    </tr>\n",
       "    <tr>\n",
       "      <th>1</th>\n",
       "      <td>MY</td>\n",
       "      <td>de62141de53c</td>\n",
       "      <td>2021-03-13 15:29:42.489059 UTC</td>\n",
       "      <td>RIDER</td>\n",
       "    </tr>\n",
       "    <tr>\n",
       "      <th>2</th>\n",
       "      <td>MY</td>\n",
       "      <td>52330aa0cdfc</td>\n",
       "      <td>2021-03-07 08:04:49.207259 UTC</td>\n",
       "      <td>RIDER</td>\n",
       "    </tr>\n",
       "    <tr>\n",
       "      <th>3</th>\n",
       "      <td>MY</td>\n",
       "      <td>61f1a503c320</td>\n",
       "      <td>2021-03-01 06:41:39.20716 UTC</td>\n",
       "      <td>RIDER</td>\n",
       "    </tr>\n",
       "    <tr>\n",
       "      <th>4</th>\n",
       "      <td>MY</td>\n",
       "      <td>dbfc4a08b79e</td>\n",
       "      <td>2021-03-28 08:14:23.857005 UTC</td>\n",
       "      <td>RIDER</td>\n",
       "    </tr>\n",
       "  </tbody>\n",
       "</table>\n",
       "</div>"
      ],
      "text/plain": [
       "  country_code  enc_order_id                    cancelled_at  \\\n",
       "0           MY  7f48cfad6f3e  2021-03-19 03:30:25.821513 UTC   \n",
       "1           MY  de62141de53c  2021-03-13 15:29:42.489059 UTC   \n",
       "2           MY  52330aa0cdfc  2021-03-07 08:04:49.207259 UTC   \n",
       "3           MY  61f1a503c320   2021-03-01 06:41:39.20716 UTC   \n",
       "4           MY  dbfc4a08b79e  2021-03-28 08:14:23.857005 UTC   \n",
       "\n",
       "  cancellation_owner  \n",
       "0              RIDER  \n",
       "1              RIDER  \n",
       "2              RIDER  \n",
       "3              RIDER  \n",
       "4              RIDER  "
      ]
     },
     "execution_count": 31,
     "metadata": {},
     "output_type": "execute_result"
    }
   ],
   "source": [
    "cancellations.head()"
   ]
  },
  {
   "cell_type": "code",
   "execution_count": 32,
   "id": "81e654e3",
   "metadata": {},
   "outputs": [
    {
     "name": "stdout",
     "output_type": "stream",
     "text": [
      "Duplicate Rows: 0\n"
     ]
    }
   ],
   "source": [
    "# Selecting duplicate rows except first \n",
    "# occurrence based on all columns\n",
    "duplicate = cancellations[cancellations.duplicated()]\n",
    "print(\"Duplicate Rows:\", duplicate.shape[0])"
   ]
  },
  {
   "cell_type": "code",
   "execution_count": 33,
   "id": "bbbc904b",
   "metadata": {},
   "outputs": [
    {
     "data": {
      "text/plain": [
       "Index([], dtype='object')"
      ]
     },
     "execution_count": 33,
     "metadata": {},
     "output_type": "execute_result"
    }
   ],
   "source": [
    "## check missing values\n",
    "cancellations.columns[cancellations.isnull().any()]"
   ]
  },
  {
   "cell_type": "code",
   "execution_count": 34,
   "id": "b4a62a97",
   "metadata": {},
   "outputs": [
    {
     "data": {
      "text/html": [
       "<div>\n",
       "<style scoped>\n",
       "    .dataframe tbody tr th:only-of-type {\n",
       "        vertical-align: middle;\n",
       "    }\n",
       "\n",
       "    .dataframe tbody tr th {\n",
       "        vertical-align: top;\n",
       "    }\n",
       "\n",
       "    .dataframe thead th {\n",
       "        text-align: right;\n",
       "    }\n",
       "</style>\n",
       "<table border=\"1\" class=\"dataframe\">\n",
       "  <thead>\n",
       "    <tr style=\"text-align: right;\">\n",
       "      <th></th>\n",
       "      <th>country_code</th>\n",
       "      <th>enc_order_id</th>\n",
       "      <th>cancelled_at</th>\n",
       "      <th>cancellation_owner</th>\n",
       "    </tr>\n",
       "  </thead>\n",
       "  <tbody>\n",
       "  </tbody>\n",
       "</table>\n",
       "</div>"
      ],
      "text/plain": [
       "Empty DataFrame\n",
       "Columns: [country_code, enc_order_id, cancelled_at, cancellation_owner]\n",
       "Index: []"
      ]
     },
     "execution_count": 34,
     "metadata": {},
     "output_type": "execute_result"
    }
   ],
   "source": [
    "cancellations[cancellations['enc_order_id'].duplicated()]"
   ]
  },
  {
   "cell_type": "code",
   "execution_count": 35,
   "id": "f22cc359",
   "metadata": {
    "scrolled": false
   },
   "outputs": [
    {
     "data": {
      "text/plain": [
       "cancellation_owner\n",
       "CUSTOMER    42409\n",
       "VENDOR      38264\n",
       "RIDER       34877\n",
       "PLATFORM       20\n",
       "Name: count, dtype: int64"
      ]
     },
     "execution_count": 35,
     "metadata": {},
     "output_type": "execute_result"
    }
   ],
   "source": [
    "cancellations['cancellation_owner'].value_counts() "
   ]
  },
  {
   "cell_type": "code",
   "execution_count": 36,
   "id": "2eb758b2",
   "metadata": {},
   "outputs": [
    {
     "data": {
      "text/plain": [
       "cancellation_owner\n",
       "CUSTOMER    36.695509\n",
       "VENDOR      33.108938\n",
       "RIDER       30.178247\n",
       "PLATFORM     0.017306\n",
       "Name: count, dtype: float64"
      ]
     },
     "execution_count": 36,
     "metadata": {},
     "output_type": "execute_result"
    }
   ],
   "source": [
    "(cancellations['cancellation_owner'].value_counts() / cancellations.shape[0]) * 100"
   ]
  },
  {
   "cell_type": "code",
   "execution_count": 37,
   "id": "51b9f0cf",
   "metadata": {},
   "outputs": [
    {
     "data": {
      "image/png": "[encoded data removed]",
      "text/plain": [
       "<Figure size 400x300 with 2 Axes>"
      ]
     },
     "metadata": {},
     "output_type": "display_data"
    }
   ],
   "source": [
    "plt.figure(figsize = (4, 3))\n",
    "plt.title('Cancellation Owner')\n",
    "plt.ylabel('Frequency [%]')\n",
    "c_percent = cancellations['cancellation_owner'].value_counts(normalize=True).sort_index() * 100\n",
    "colors = sns.color_palette(\"Set2\", n_colors=len(c_percent))\n",
    "ax = (cancellations.cancellation_owner.value_counts()/len(cancellations)*100).sort_index().plot(kind = \"bar\", rot = 0, color=colors)\n",
    "ax.set_yticks(np.arange(0, 110, 10))\n",
    "\n",
    "ax2 = ax.twinx()\n",
    "ax2.set_yticks(np.arange(0, 110, 10)*len(cancellations)/100)\n",
    "\n",
    "for p in ax.patches:\n",
    "    ax.annotate('{:.2f}%'.format(p.get_height()), (p.get_x()+0.15, p.get_height()+1))"
   ]
  },
  {
   "cell_type": "code",
   "execution_count": 38,
   "id": "1756f500",
   "metadata": {},
   "outputs": [
    {
     "data": {
      "text/html": [
       "<div>\n",
       "<style scoped>\n",
       "    .dataframe tbody tr th:only-of-type {\n",
       "        vertical-align: middle;\n",
       "    }\n",
       "\n",
       "    .dataframe tbody tr th {\n",
       "        vertical-align: top;\n",
       "    }\n",
       "\n",
       "    .dataframe thead th {\n",
       "        text-align: right;\n",
       "    }\n",
       "</style>\n",
       "<table border=\"1\" class=\"dataframe\">\n",
       "  <thead>\n",
       "    <tr style=\"text-align: right;\">\n",
       "      <th></th>\n",
       "      <th>country_code</th>\n",
       "      <th>enc_order_id</th>\n",
       "      <th>enc_customer_id</th>\n",
       "      <th>vertical</th>\n",
       "      <th>order_placed_at</th>\n",
       "      <th>status</th>\n",
       "      <th>order_value</th>\n",
       "      <th>cancelled_at</th>\n",
       "      <th>cancellation_owner</th>\n",
       "    </tr>\n",
       "  </thead>\n",
       "  <tbody>\n",
       "    <tr>\n",
       "      <th>0</th>\n",
       "      <td>MY</td>\n",
       "      <td>e3efd320f9b7</td>\n",
       "      <td>44d967520153</td>\n",
       "      <td>Restaurants</td>\n",
       "      <td>2021-03-29 04:50:36+00:00</td>\n",
       "      <td>DELIVERED</td>\n",
       "      <td>2.00</td>\n",
       "      <td>NaN</td>\n",
       "      <td>NaN</td>\n",
       "    </tr>\n",
       "    <tr>\n",
       "      <th>1</th>\n",
       "      <td>MY</td>\n",
       "      <td>7147c1ffac6f</td>\n",
       "      <td>96848de95c01</td>\n",
       "      <td>Restaurants</td>\n",
       "      <td>2021-03-27 07:49:51+00:00</td>\n",
       "      <td>DELIVERED</td>\n",
       "      <td>2.07</td>\n",
       "      <td>NaN</td>\n",
       "      <td>NaN</td>\n",
       "    </tr>\n",
       "    <tr>\n",
       "      <th>2</th>\n",
       "      <td>MY</td>\n",
       "      <td>79343f6c20af</td>\n",
       "      <td>2e0142712577</td>\n",
       "      <td>Groceries</td>\n",
       "      <td>2021-03-03 08:25:52+00:00</td>\n",
       "      <td>DELIVERED</td>\n",
       "      <td>2.74</td>\n",
       "      <td>NaN</td>\n",
       "      <td>NaN</td>\n",
       "    </tr>\n",
       "    <tr>\n",
       "      <th>3</th>\n",
       "      <td>MY</td>\n",
       "      <td>439217952d53</td>\n",
       "      <td>fc8759fabaa8</td>\n",
       "      <td>Restaurants</td>\n",
       "      <td>2021-03-16 05:32:37+00:00</td>\n",
       "      <td>DELIVERED</td>\n",
       "      <td>2.04</td>\n",
       "      <td>NaN</td>\n",
       "      <td>NaN</td>\n",
       "    </tr>\n",
       "    <tr>\n",
       "      <th>4</th>\n",
       "      <td>MY</td>\n",
       "      <td>3eeb2e8008b5</td>\n",
       "      <td>13e582c8cd6d</td>\n",
       "      <td>Restaurants</td>\n",
       "      <td>2021-03-24 07:22:14+00:00</td>\n",
       "      <td>DELIVERED</td>\n",
       "      <td>2.90</td>\n",
       "      <td>NaN</td>\n",
       "      <td>NaN</td>\n",
       "    </tr>\n",
       "  </tbody>\n",
       "</table>\n",
       "</div>"
      ],
      "text/plain": [
       "  country_code  enc_order_id enc_customer_id     vertical  \\\n",
       "0           MY  e3efd320f9b7    44d967520153  Restaurants   \n",
       "1           MY  7147c1ffac6f    96848de95c01  Restaurants   \n",
       "2           MY  79343f6c20af    2e0142712577    Groceries   \n",
       "3           MY  439217952d53    fc8759fabaa8  Restaurants   \n",
       "4           MY  3eeb2e8008b5    13e582c8cd6d  Restaurants   \n",
       "\n",
       "            order_placed_at     status  order_value cancelled_at  \\\n",
       "0 2021-03-29 04:50:36+00:00  DELIVERED         2.00          NaN   \n",
       "1 2021-03-27 07:49:51+00:00  DELIVERED         2.07          NaN   \n",
       "2 2021-03-03 08:25:52+00:00  DELIVERED         2.74          NaN   \n",
       "3 2021-03-16 05:32:37+00:00  DELIVERED         2.04          NaN   \n",
       "4 2021-03-24 07:22:14+00:00  DELIVERED         2.90          NaN   \n",
       "\n",
       "  cancellation_owner  \n",
       "0                NaN  \n",
       "1                NaN  \n",
       "2                NaN  \n",
       "3                NaN  \n",
       "4                NaN  "
      ]
     },
     "execution_count": 38,
     "metadata": {},
     "output_type": "execute_result"
    }
   ],
   "source": [
    "df = pd.merge(orders,cancellations, on=['enc_order_id', 'country_code'], how='left')\n",
    "df.head()"
   ]
  },
  {
   "cell_type": "code",
   "execution_count": 39,
   "id": "df39141e",
   "metadata": {},
   "outputs": [
    {
     "data": {
      "text/plain": [
       "3460862"
      ]
     },
     "execution_count": 39,
     "metadata": {},
     "output_type": "execute_result"
    }
   ],
   "source": [
    "df['enc_order_id'].count()"
   ]
  },
  {
   "cell_type": "markdown",
   "id": "9acc0044",
   "metadata": {},
   "source": [
    "# Deliveries Data"
   ]
  },
  {
   "cell_type": "code",
   "execution_count": 40,
   "id": "ef6b84f8",
   "metadata": {},
   "outputs": [
    {
     "data": {
      "text/html": [
       "<div>\n",
       "<style scoped>\n",
       "    .dataframe tbody tr th:only-of-type {\n",
       "        vertical-align: middle;\n",
       "    }\n",
       "\n",
       "    .dataframe tbody tr th {\n",
       "        vertical-align: top;\n",
       "    }\n",
       "\n",
       "    .dataframe thead th {\n",
       "        text-align: right;\n",
       "    }\n",
       "</style>\n",
       "<table border=\"1\" class=\"dataframe\">\n",
       "  <thead>\n",
       "    <tr style=\"text-align: right;\">\n",
       "      <th></th>\n",
       "      <th>country_code</th>\n",
       "      <th>enc_order_id</th>\n",
       "      <th>promised_delivery_time</th>\n",
       "      <th>actual_delivery_duration_secs</th>\n",
       "      <th>delivery_status</th>\n",
       "    </tr>\n",
       "  </thead>\n",
       "  <tbody>\n",
       "    <tr>\n",
       "      <th>0</th>\n",
       "      <td>MY</td>\n",
       "      <td>1159bac2515f</td>\n",
       "      <td>2647.0</td>\n",
       "      <td>1616.0</td>\n",
       "      <td>completed</td>\n",
       "    </tr>\n",
       "    <tr>\n",
       "      <th>1</th>\n",
       "      <td>TH</td>\n",
       "      <td>d2627aa6ce14</td>\n",
       "      <td>2517.0</td>\n",
       "      <td>3501.0</td>\n",
       "      <td>completed</td>\n",
       "    </tr>\n",
       "    <tr>\n",
       "      <th>2</th>\n",
       "      <td>MY</td>\n",
       "      <td>fc96c54ec384</td>\n",
       "      <td>1452.0</td>\n",
       "      <td>873.0</td>\n",
       "      <td>completed</td>\n",
       "    </tr>\n",
       "    <tr>\n",
       "      <th>3</th>\n",
       "      <td>MY</td>\n",
       "      <td>ba9b03e4efdb</td>\n",
       "      <td>4375.0</td>\n",
       "      <td>0.0</td>\n",
       "      <td>cancelled</td>\n",
       "    </tr>\n",
       "    <tr>\n",
       "      <th>4</th>\n",
       "      <td>TH</td>\n",
       "      <td>22ce3ea19f41</td>\n",
       "      <td>1612.0</td>\n",
       "      <td>1259.0</td>\n",
       "      <td>completed</td>\n",
       "    </tr>\n",
       "  </tbody>\n",
       "</table>\n",
       "</div>"
      ],
      "text/plain": [
       "  country_code  enc_order_id  promised_delivery_time  \\\n",
       "0           MY  1159bac2515f                  2647.0   \n",
       "1           TH  d2627aa6ce14                  2517.0   \n",
       "2           MY  fc96c54ec384                  1452.0   \n",
       "3           MY  ba9b03e4efdb                  4375.0   \n",
       "4           TH  22ce3ea19f41                  1612.0   \n",
       "\n",
       "   actual_delivery_duration_secs delivery_status  \n",
       "0                         1616.0       completed  \n",
       "1                         3501.0       completed  \n",
       "2                          873.0       completed  \n",
       "3                            0.0       cancelled  \n",
       "4                         1259.0       completed  "
      ]
     },
     "execution_count": 40,
     "metadata": {},
     "output_type": "execute_result"
    }
   ],
   "source": [
    "deliveries.head()"
   ]
  },
  {
   "cell_type": "code",
   "execution_count": 41,
   "id": "40c6abf2",
   "metadata": {},
   "outputs": [
    {
     "name": "stdout",
     "output_type": "stream",
     "text": [
      "Duplicate Rows: 0\n"
     ]
    }
   ],
   "source": [
    "# Selecting duplicate rows except first \n",
    "# occurrence based on all columns\n",
    "duplicate = deliveries[deliveries.duplicated()]\n",
    "print(\"Duplicate Rows:\", duplicate.shape[0])"
   ]
  },
  {
   "cell_type": "code",
   "execution_count": 42,
   "id": "c5b24aab",
   "metadata": {},
   "outputs": [
    {
     "data": {
      "text/plain": [
       "Index(['promised_delivery_time', 'actual_delivery_duration_secs'], dtype='object')"
      ]
     },
     "execution_count": 42,
     "metadata": {},
     "output_type": "execute_result"
    }
   ],
   "source": [
    "## check missing values\n",
    "deliveries.columns[deliveries.isnull().any()]"
   ]
  },
  {
   "cell_type": "code",
   "execution_count": 43,
   "id": "a20dbc4f",
   "metadata": {},
   "outputs": [
    {
     "data": {
      "text/plain": [
       "delivery_status\n",
       "completed    3340932\n",
       "cancelled     111966\n",
       "Name: count, dtype: int64"
      ]
     },
     "execution_count": 43,
     "metadata": {},
     "output_type": "execute_result"
    }
   ],
   "source": [
    "deliveries['delivery_status'].value_counts()"
   ]
  },
  {
   "cell_type": "code",
   "execution_count": 44,
   "id": "86a038eb",
   "metadata": {},
   "outputs": [
    {
     "data": {
      "text/plain": [
       "delivery_status_new\n",
       "completed    87.003410\n",
       "delay         9.753923\n",
       "cancelled     3.242667\n",
       "Name: count, dtype: float64"
      ]
     },
     "execution_count": 44,
     "metadata": {},
     "output_type": "execute_result"
    }
   ],
   "source": [
    "deliveries['delivery_delay_secs'] = (\n",
    "    deliveries['actual_delivery_duration_secs'] - deliveries['promised_delivery_time']\n",
    ")\n",
    "deliveries['delivery_status_new'] = np.where(((deliveries['actual_delivery_duration_secs']-deliveries['promised_delivery_time'])>600)&(deliveries['delivery_status']!='cancelled'),'delay',deliveries['delivery_status'])\n",
    "(deliveries['delivery_status_new'].value_counts() / deliveries.shape[0]) * 100"
   ]
  },
  {
   "cell_type": "code",
   "execution_count": 45,
   "id": "148b9e31",
   "metadata": {},
   "outputs": [
    {
     "data": {
      "text/plain": [
       "delivery_status_new\n",
       "completed    3004139\n",
       "delay         336793\n",
       "cancelled     111966\n",
       "Name: count, dtype: int64"
      ]
     },
     "execution_count": 45,
     "metadata": {},
     "output_type": "execute_result"
    }
   ],
   "source": [
    "deliveries['delivery_status_new'].value_counts()"
   ]
  },
  {
   "cell_type": "code",
   "execution_count": 46,
   "id": "aef9266f",
   "metadata": {},
   "outputs": [
    {
     "data": {
      "text/html": [
       "<div>\n",
       "<style scoped>\n",
       "    .dataframe tbody tr th:only-of-type {\n",
       "        vertical-align: middle;\n",
       "    }\n",
       "\n",
       "    .dataframe tbody tr th {\n",
       "        vertical-align: top;\n",
       "    }\n",
       "\n",
       "    .dataframe thead th {\n",
       "        text-align: right;\n",
       "    }\n",
       "</style>\n",
       "<table border=\"1\" class=\"dataframe\">\n",
       "  <thead>\n",
       "    <tr style=\"text-align: right;\">\n",
       "      <th></th>\n",
       "      <th>country_code</th>\n",
       "      <th>enc_order_id</th>\n",
       "      <th>enc_customer_id</th>\n",
       "      <th>vertical</th>\n",
       "      <th>order_placed_at</th>\n",
       "      <th>status</th>\n",
       "      <th>order_value</th>\n",
       "      <th>cancelled_at</th>\n",
       "      <th>cancellation_owner</th>\n",
       "      <th>delivery_status_new</th>\n",
       "      <th>delivery_delay_secs</th>\n",
       "    </tr>\n",
       "  </thead>\n",
       "  <tbody>\n",
       "    <tr>\n",
       "      <th>0</th>\n",
       "      <td>MY</td>\n",
       "      <td>e3efd320f9b7</td>\n",
       "      <td>44d967520153</td>\n",
       "      <td>Restaurants</td>\n",
       "      <td>2021-03-29 04:50:36+00:00</td>\n",
       "      <td>DELIVERED</td>\n",
       "      <td>2.00</td>\n",
       "      <td>NaN</td>\n",
       "      <td>NaN</td>\n",
       "      <td>completed</td>\n",
       "      <td>93.0</td>\n",
       "    </tr>\n",
       "    <tr>\n",
       "      <th>1</th>\n",
       "      <td>MY</td>\n",
       "      <td>7147c1ffac6f</td>\n",
       "      <td>96848de95c01</td>\n",
       "      <td>Restaurants</td>\n",
       "      <td>2021-03-27 07:49:51+00:00</td>\n",
       "      <td>DELIVERED</td>\n",
       "      <td>2.07</td>\n",
       "      <td>NaN</td>\n",
       "      <td>NaN</td>\n",
       "      <td>delay</td>\n",
       "      <td>1692.0</td>\n",
       "    </tr>\n",
       "    <tr>\n",
       "      <th>2</th>\n",
       "      <td>MY</td>\n",
       "      <td>79343f6c20af</td>\n",
       "      <td>2e0142712577</td>\n",
       "      <td>Groceries</td>\n",
       "      <td>2021-03-03 08:25:52+00:00</td>\n",
       "      <td>DELIVERED</td>\n",
       "      <td>2.74</td>\n",
       "      <td>NaN</td>\n",
       "      <td>NaN</td>\n",
       "      <td>completed</td>\n",
       "      <td>267.0</td>\n",
       "    </tr>\n",
       "    <tr>\n",
       "      <th>3</th>\n",
       "      <td>MY</td>\n",
       "      <td>439217952d53</td>\n",
       "      <td>fc8759fabaa8</td>\n",
       "      <td>Restaurants</td>\n",
       "      <td>2021-03-16 05:32:37+00:00</td>\n",
       "      <td>DELIVERED</td>\n",
       "      <td>2.04</td>\n",
       "      <td>NaN</td>\n",
       "      <td>NaN</td>\n",
       "      <td>completed</td>\n",
       "      <td>-335.0</td>\n",
       "    </tr>\n",
       "    <tr>\n",
       "      <th>4</th>\n",
       "      <td>MY</td>\n",
       "      <td>3eeb2e8008b5</td>\n",
       "      <td>13e582c8cd6d</td>\n",
       "      <td>Restaurants</td>\n",
       "      <td>2021-03-24 07:22:14+00:00</td>\n",
       "      <td>DELIVERED</td>\n",
       "      <td>2.90</td>\n",
       "      <td>NaN</td>\n",
       "      <td>NaN</td>\n",
       "      <td>completed</td>\n",
       "      <td>270.0</td>\n",
       "    </tr>\n",
       "  </tbody>\n",
       "</table>\n",
       "</div>"
      ],
      "text/plain": [
       "  country_code  enc_order_id enc_customer_id     vertical  \\\n",
       "0           MY  e3efd320f9b7    44d967520153  Restaurants   \n",
       "1           MY  7147c1ffac6f    96848de95c01  Restaurants   \n",
       "2           MY  79343f6c20af    2e0142712577    Groceries   \n",
       "3           MY  439217952d53    fc8759fabaa8  Restaurants   \n",
       "4           MY  3eeb2e8008b5    13e582c8cd6d  Restaurants   \n",
       "\n",
       "            order_placed_at     status  order_value cancelled_at  \\\n",
       "0 2021-03-29 04:50:36+00:00  DELIVERED         2.00          NaN   \n",
       "1 2021-03-27 07:49:51+00:00  DELIVERED         2.07          NaN   \n",
       "2 2021-03-03 08:25:52+00:00  DELIVERED         2.74          NaN   \n",
       "3 2021-03-16 05:32:37+00:00  DELIVERED         2.04          NaN   \n",
       "4 2021-03-24 07:22:14+00:00  DELIVERED         2.90          NaN   \n",
       "\n",
       "  cancellation_owner delivery_status_new  delivery_delay_secs  \n",
       "0                NaN           completed                 93.0  \n",
       "1                NaN               delay               1692.0  \n",
       "2                NaN           completed                267.0  \n",
       "3                NaN           completed               -335.0  \n",
       "4                NaN           completed                270.0  "
      ]
     },
     "execution_count": 46,
     "metadata": {},
     "output_type": "execute_result"
    }
   ],
   "source": [
    "df = pd.merge(df,deliveries[['enc_order_id', 'country_code','delivery_status_new','delivery_delay_secs']], on=['enc_order_id', 'country_code'], how='left')\n",
    "df.head()"
   ]
  },
  {
   "cell_type": "code",
   "execution_count": 47,
   "id": "3f8b3f7f",
   "metadata": {},
   "outputs": [
    {
     "data": {
      "text/plain": [
       "3460862"
      ]
     },
     "execution_count": 47,
     "metadata": {},
     "output_type": "execute_result"
    }
   ],
   "source": [
    "df['enc_order_id'].count()"
   ]
  },
  {
   "cell_type": "markdown",
   "id": "ae1417e4",
   "metadata": {},
   "source": [
    "# Customer Service Contact Data"
   ]
  },
  {
   "cell_type": "code",
   "execution_count": 48,
   "id": "9e9bcea9",
   "metadata": {},
   "outputs": [
    {
     "data": {
      "text/html": [
       "<div>\n",
       "<style scoped>\n",
       "    .dataframe tbody tr th:only-of-type {\n",
       "        vertical-align: middle;\n",
       "    }\n",
       "\n",
       "    .dataframe tbody tr th {\n",
       "        vertical-align: top;\n",
       "    }\n",
       "\n",
       "    .dataframe thead th {\n",
       "        text-align: right;\n",
       "    }\n",
       "</style>\n",
       "<table border=\"1\" class=\"dataframe\">\n",
       "  <thead>\n",
       "    <tr style=\"text-align: right;\">\n",
       "      <th></th>\n",
       "      <th>country_code</th>\n",
       "      <th>enc_order_id</th>\n",
       "      <th>creation_timestamp</th>\n",
       "      <th>served_chat_ind</th>\n",
       "      <th>missed_chat_ind</th>\n",
       "      <th>contact_reason</th>\n",
       "    </tr>\n",
       "  </thead>\n",
       "  <tbody>\n",
       "    <tr>\n",
       "      <th>0</th>\n",
       "      <td>MY</td>\n",
       "      <td>22ba1ac92e27</td>\n",
       "      <td>2021-03-31 13:46:33 UTC</td>\n",
       "      <td>1</td>\n",
       "      <td>0</td>\n",
       "      <td>Fraud</td>\n",
       "    </tr>\n",
       "    <tr>\n",
       "      <th>1</th>\n",
       "      <td>MY</td>\n",
       "      <td>35ba140588c7</td>\n",
       "      <td>2021-03-24 11:28:58 UTC</td>\n",
       "      <td>1</td>\n",
       "      <td>0</td>\n",
       "      <td>Fraud</td>\n",
       "    </tr>\n",
       "    <tr>\n",
       "      <th>2</th>\n",
       "      <td>MY</td>\n",
       "      <td>842f06dc9f8b</td>\n",
       "      <td>2021-04-07 09:48:59 UTC</td>\n",
       "      <td>1</td>\n",
       "      <td>0</td>\n",
       "      <td>Fraud</td>\n",
       "    </tr>\n",
       "    <tr>\n",
       "      <th>3</th>\n",
       "      <td>MY</td>\n",
       "      <td>3eecefabe456</td>\n",
       "      <td>2021-03-17 06:05:03 UTC</td>\n",
       "      <td>1</td>\n",
       "      <td>0</td>\n",
       "      <td>Fraud</td>\n",
       "    </tr>\n",
       "    <tr>\n",
       "      <th>4</th>\n",
       "      <td>MY</td>\n",
       "      <td>c6546849f881</td>\n",
       "      <td>2021-03-29 04:07:10 UTC</td>\n",
       "      <td>1</td>\n",
       "      <td>0</td>\n",
       "      <td>Fraud</td>\n",
       "    </tr>\n",
       "  </tbody>\n",
       "</table>\n",
       "</div>"
      ],
      "text/plain": [
       "  country_code  enc_order_id       creation_timestamp  served_chat_ind  \\\n",
       "0           MY  22ba1ac92e27  2021-03-31 13:46:33 UTC                1   \n",
       "1           MY  35ba140588c7  2021-03-24 11:28:58 UTC                1   \n",
       "2           MY  842f06dc9f8b  2021-04-07 09:48:59 UTC                1   \n",
       "3           MY  3eecefabe456  2021-03-17 06:05:03 UTC                1   \n",
       "4           MY  c6546849f881  2021-03-29 04:07:10 UTC                1   \n",
       "\n",
       "   missed_chat_ind contact_reason  \n",
       "0                0          Fraud  \n",
       "1                0          Fraud  \n",
       "2                0          Fraud  \n",
       "3                0          Fraud  \n",
       "4                0          Fraud  "
      ]
     },
     "execution_count": 48,
     "metadata": {},
     "output_type": "execute_result"
    }
   ],
   "source": [
    "con_df = contacts.copy()\n",
    "contacts.head()"
   ]
  },
  {
   "cell_type": "code",
   "execution_count": 49,
   "id": "e59fab27",
   "metadata": {},
   "outputs": [
    {
     "name": "stdout",
     "output_type": "stream",
     "text": [
      "Duplicate Rows: 1\n"
     ]
    }
   ],
   "source": [
    "# Selecting duplicate rows except first \n",
    "# occurrence based on all columns\n",
    "duplicate = contacts[contacts.duplicated()]\n",
    "print(\"Duplicate Rows:\", duplicate.shape[0])"
   ]
  },
  {
   "cell_type": "code",
   "execution_count": 50,
   "id": "d0589488",
   "metadata": {},
   "outputs": [],
   "source": [
    "contacts = contacts.drop_duplicates()"
   ]
  },
  {
   "cell_type": "code",
   "execution_count": 51,
   "id": "8a5f2860",
   "metadata": {},
   "outputs": [
    {
     "data": {
      "text/plain": [
       "Index([], dtype='object')"
      ]
     },
     "execution_count": 51,
     "metadata": {},
     "output_type": "execute_result"
    }
   ],
   "source": [
    "## check missing values\n",
    "contacts.columns[contacts.isnull().any()]"
   ]
  },
  {
   "cell_type": "markdown",
   "id": "e0d8c13e",
   "metadata": {},
   "source": [
    "### Total number of contact events"
   ]
  },
  {
   "cell_type": "code",
   "execution_count": 52,
   "id": "4856d2db",
   "metadata": {
    "scrolled": true
   },
   "outputs": [
    {
     "data": {
      "text/html": [
       "<div>\n",
       "<style scoped>\n",
       "    .dataframe tbody tr th:only-of-type {\n",
       "        vertical-align: middle;\n",
       "    }\n",
       "\n",
       "    .dataframe tbody tr th {\n",
       "        vertical-align: top;\n",
       "    }\n",
       "\n",
       "    .dataframe thead th {\n",
       "        text-align: right;\n",
       "    }\n",
       "</style>\n",
       "<table border=\"1\" class=\"dataframe\">\n",
       "  <thead>\n",
       "    <tr style=\"text-align: right;\">\n",
       "      <th></th>\n",
       "      <th>Type</th>\n",
       "      <th>Count</th>\n",
       "      <th>Percent</th>\n",
       "    </tr>\n",
       "  </thead>\n",
       "  <tbody>\n",
       "    <tr>\n",
       "      <th>0</th>\n",
       "      <td>Served Chats</td>\n",
       "      <td>67129</td>\n",
       "      <td>94.7%</td>\n",
       "    </tr>\n",
       "    <tr>\n",
       "      <th>1</th>\n",
       "      <td>Missed Chats</td>\n",
       "      <td>3765</td>\n",
       "      <td>5.3%</td>\n",
       "    </tr>\n",
       "  </tbody>\n",
       "</table>\n",
       "</div>"
      ],
      "text/plain": [
       "           Type  Count Percent\n",
       "0  Served Chats  67129   94.7%\n",
       "1  Missed Chats   3765    5.3%"
      ]
     },
     "execution_count": 52,
     "metadata": {},
     "output_type": "execute_result"
    }
   ],
   "source": [
    " total_contacts = contacts.shape[0]\n",
    "\n",
    "# Count served and missed\n",
    "served_count = contacts['served_chat_ind'].sum()\n",
    "missed_count = contacts['missed_chat_ind'].sum()\n",
    "\n",
    "# Percentages\n",
    "served_pct = round(served_count / total_contacts * 100, 1)\n",
    "missed_pct = round(missed_count / total_contacts * 100, 1)\n",
    "\n",
    "contact_summary = pd.DataFrame({\n",
    "    'Type': ['Served Chats', 'Missed Chats'],\n",
    "    'Count': [served_count, missed_count],\n",
    "    'Percent': [f\"{served_pct}%\", f\"{missed_pct}%\"]\n",
    "})\n",
    "contact_summary"
   ]
  },
  {
   "cell_type": "code",
   "execution_count": 53,
   "id": "e7d4dc49",
   "metadata": {},
   "outputs": [
    {
     "data": {
      "text/plain": [
       "contact_reason\n",
       "Missing item                                     11576\n",
       "Complain about late order                         9993\n",
       "Request: order will take longer than expected     6944\n",
       "Address                                           5481\n",
       "Food items                                        4803\n",
       "                                                 ...  \n",
       "Request: Unable to locate pickup partner             1\n",
       "Voucher validity                                     1\n",
       "Change pick-up outlet                                1\n",
       "Forward - Vendor Service                             1\n",
       "Request: Partner closed for pickup                   1\n",
       "Name: count, Length: 104, dtype: int64"
      ]
     },
     "execution_count": 53,
     "metadata": {},
     "output_type": "execute_result"
    }
   ],
   "source": [
    "contacts['contact_reason'].value_counts()"
   ]
  },
  {
   "cell_type": "code",
   "execution_count": 54,
   "id": "54d5edf5",
   "metadata": {},
   "outputs": [
    {
     "data": {
      "text/html": [
       "<div>\n",
       "<style scoped>\n",
       "    .dataframe tbody tr th:only-of-type {\n",
       "        vertical-align: middle;\n",
       "    }\n",
       "\n",
       "    .dataframe tbody tr th {\n",
       "        vertical-align: top;\n",
       "    }\n",
       "\n",
       "    .dataframe thead th {\n",
       "        text-align: right;\n",
       "    }\n",
       "</style>\n",
       "<table border=\"1\" class=\"dataframe\">\n",
       "  <thead>\n",
       "    <tr style=\"text-align: right;\">\n",
       "      <th></th>\n",
       "      <th>enc_order_id</th>\n",
       "      <th>country_code</th>\n",
       "      <th>contact_reason</th>\n",
       "      <th>served_chat_ind</th>\n",
       "      <th>missed_chat_ind</th>\n",
       "    </tr>\n",
       "  </thead>\n",
       "  <tbody>\n",
       "    <tr>\n",
       "      <th>0</th>\n",
       "      <td>00017c4e6ebc</td>\n",
       "      <td>MY</td>\n",
       "      <td>Request: order is late, does not want to wait</td>\n",
       "      <td>1</td>\n",
       "      <td>0</td>\n",
       "    </tr>\n",
       "    <tr>\n",
       "      <th>1</th>\n",
       "      <td>0002aa48276d</td>\n",
       "      <td>TH</td>\n",
       "      <td>Address</td>\n",
       "      <td>1</td>\n",
       "      <td>0</td>\n",
       "    </tr>\n",
       "    <tr>\n",
       "      <th>2</th>\n",
       "      <td>0003c503dfbb</td>\n",
       "      <td>MY</td>\n",
       "      <td>Cooking instructions</td>\n",
       "      <td>1</td>\n",
       "      <td>0</td>\n",
       "    </tr>\n",
       "    <tr>\n",
       "      <th>3</th>\n",
       "      <td>00043e5fb9d2</td>\n",
       "      <td>MY</td>\n",
       "      <td>Complain about late order</td>\n",
       "      <td>1</td>\n",
       "      <td>0</td>\n",
       "    </tr>\n",
       "    <tr>\n",
       "      <th>4</th>\n",
       "      <td>0005468196dd</td>\n",
       "      <td>TH</td>\n",
       "      <td>Address</td>\n",
       "      <td>1</td>\n",
       "      <td>0</td>\n",
       "    </tr>\n",
       "  </tbody>\n",
       "</table>\n",
       "</div>"
      ],
      "text/plain": [
       "   enc_order_id country_code                                 contact_reason  \\\n",
       "0  00017c4e6ebc           MY  Request: order is late, does not want to wait   \n",
       "1  0002aa48276d           TH                                        Address   \n",
       "2  0003c503dfbb           MY                           Cooking instructions   \n",
       "3  00043e5fb9d2           MY                      Complain about late order   \n",
       "4  0005468196dd           TH                                        Address   \n",
       "\n",
       "   served_chat_ind  missed_chat_ind  \n",
       "0                1                0  \n",
       "1                1                0  \n",
       "2                1                0  \n",
       "3                1                0  \n",
       "4                1                0  "
      ]
     },
     "execution_count": 54,
     "metadata": {},
     "output_type": "execute_result"
    }
   ],
   "source": [
    "contacts = contacts.groupby(['enc_order_id', 'country_code']).agg({\n",
    "    'contact_reason': lambda x: ', '.join(x.unique()),\n",
    "    'served_chat_ind': 'sum',\n",
    "    'missed_chat_ind': 'sum'\n",
    "}).reset_index()\n",
    "contacts.head()"
   ]
  },
  {
   "cell_type": "code",
   "execution_count": 55,
   "id": "4cff666b",
   "metadata": {},
   "outputs": [
    {
     "data": {
      "text/html": [
       "<div>\n",
       "<style scoped>\n",
       "    .dataframe tbody tr th:only-of-type {\n",
       "        vertical-align: middle;\n",
       "    }\n",
       "\n",
       "    .dataframe tbody tr th {\n",
       "        vertical-align: top;\n",
       "    }\n",
       "\n",
       "    .dataframe thead th {\n",
       "        text-align: right;\n",
       "    }\n",
       "</style>\n",
       "<table border=\"1\" class=\"dataframe\">\n",
       "  <thead>\n",
       "    <tr style=\"text-align: right;\">\n",
       "      <th></th>\n",
       "      <th>country_code</th>\n",
       "      <th>enc_order_id</th>\n",
       "      <th>enc_customer_id</th>\n",
       "      <th>vertical</th>\n",
       "      <th>order_placed_at</th>\n",
       "      <th>status</th>\n",
       "      <th>order_value</th>\n",
       "      <th>cancelled_at</th>\n",
       "      <th>cancellation_owner</th>\n",
       "      <th>delivery_status_new</th>\n",
       "      <th>delivery_delay_secs</th>\n",
       "      <th>contact_reason</th>\n",
       "      <th>served_chat_ind</th>\n",
       "      <th>missed_chat_ind</th>\n",
       "    </tr>\n",
       "  </thead>\n",
       "  <tbody>\n",
       "    <tr>\n",
       "      <th>0</th>\n",
       "      <td>MY</td>\n",
       "      <td>e3efd320f9b7</td>\n",
       "      <td>44d967520153</td>\n",
       "      <td>Restaurants</td>\n",
       "      <td>2021-03-29 04:50:36+00:00</td>\n",
       "      <td>DELIVERED</td>\n",
       "      <td>2.00</td>\n",
       "      <td>NaN</td>\n",
       "      <td>NaN</td>\n",
       "      <td>completed</td>\n",
       "      <td>93.0</td>\n",
       "      <td>NaN</td>\n",
       "      <td>NaN</td>\n",
       "      <td>NaN</td>\n",
       "    </tr>\n",
       "    <tr>\n",
       "      <th>1</th>\n",
       "      <td>MY</td>\n",
       "      <td>7147c1ffac6f</td>\n",
       "      <td>96848de95c01</td>\n",
       "      <td>Restaurants</td>\n",
       "      <td>2021-03-27 07:49:51+00:00</td>\n",
       "      <td>DELIVERED</td>\n",
       "      <td>2.07</td>\n",
       "      <td>NaN</td>\n",
       "      <td>NaN</td>\n",
       "      <td>delay</td>\n",
       "      <td>1692.0</td>\n",
       "      <td>NaN</td>\n",
       "      <td>NaN</td>\n",
       "      <td>NaN</td>\n",
       "    </tr>\n",
       "    <tr>\n",
       "      <th>2</th>\n",
       "      <td>MY</td>\n",
       "      <td>79343f6c20af</td>\n",
       "      <td>2e0142712577</td>\n",
       "      <td>Groceries</td>\n",
       "      <td>2021-03-03 08:25:52+00:00</td>\n",
       "      <td>DELIVERED</td>\n",
       "      <td>2.74</td>\n",
       "      <td>NaN</td>\n",
       "      <td>NaN</td>\n",
       "      <td>completed</td>\n",
       "      <td>267.0</td>\n",
       "      <td>NaN</td>\n",
       "      <td>NaN</td>\n",
       "      <td>NaN</td>\n",
       "    </tr>\n",
       "    <tr>\n",
       "      <th>3</th>\n",
       "      <td>MY</td>\n",
       "      <td>439217952d53</td>\n",
       "      <td>fc8759fabaa8</td>\n",
       "      <td>Restaurants</td>\n",
       "      <td>2021-03-16 05:32:37+00:00</td>\n",
       "      <td>DELIVERED</td>\n",
       "      <td>2.04</td>\n",
       "      <td>NaN</td>\n",
       "      <td>NaN</td>\n",
       "      <td>completed</td>\n",
       "      <td>-335.0</td>\n",
       "      <td>NaN</td>\n",
       "      <td>NaN</td>\n",
       "      <td>NaN</td>\n",
       "    </tr>\n",
       "    <tr>\n",
       "      <th>4</th>\n",
       "      <td>MY</td>\n",
       "      <td>3eeb2e8008b5</td>\n",
       "      <td>13e582c8cd6d</td>\n",
       "      <td>Restaurants</td>\n",
       "      <td>2021-03-24 07:22:14+00:00</td>\n",
       "      <td>DELIVERED</td>\n",
       "      <td>2.90</td>\n",
       "      <td>NaN</td>\n",
       "      <td>NaN</td>\n",
       "      <td>completed</td>\n",
       "      <td>270.0</td>\n",
       "      <td>NaN</td>\n",
       "      <td>NaN</td>\n",
       "      <td>NaN</td>\n",
       "    </tr>\n",
       "  </tbody>\n",
       "</table>\n",
       "</div>"
      ],
      "text/plain": [
       "  country_code  enc_order_id enc_customer_id     vertical  \\\n",
       "0           MY  e3efd320f9b7    44d967520153  Restaurants   \n",
       "1           MY  7147c1ffac6f    96848de95c01  Restaurants   \n",
       "2           MY  79343f6c20af    2e0142712577    Groceries   \n",
       "3           MY  439217952d53    fc8759fabaa8  Restaurants   \n",
       "4           MY  3eeb2e8008b5    13e582c8cd6d  Restaurants   \n",
       "\n",
       "            order_placed_at     status  order_value cancelled_at  \\\n",
       "0 2021-03-29 04:50:36+00:00  DELIVERED         2.00          NaN   \n",
       "1 2021-03-27 07:49:51+00:00  DELIVERED         2.07          NaN   \n",
       "2 2021-03-03 08:25:52+00:00  DELIVERED         2.74          NaN   \n",
       "3 2021-03-16 05:32:37+00:00  DELIVERED         2.04          NaN   \n",
       "4 2021-03-24 07:22:14+00:00  DELIVERED         2.90          NaN   \n",
       "\n",
       "  cancellation_owner delivery_status_new  delivery_delay_secs contact_reason  \\\n",
       "0                NaN           completed                 93.0            NaN   \n",
       "1                NaN               delay               1692.0            NaN   \n",
       "2                NaN           completed                267.0            NaN   \n",
       "3                NaN           completed               -335.0            NaN   \n",
       "4                NaN           completed                270.0            NaN   \n",
       "\n",
       "   served_chat_ind  missed_chat_ind  \n",
       "0              NaN              NaN  \n",
       "1              NaN              NaN  \n",
       "2              NaN              NaN  \n",
       "3              NaN              NaN  \n",
       "4              NaN              NaN  "
      ]
     },
     "execution_count": 55,
     "metadata": {},
     "output_type": "execute_result"
    }
   ],
   "source": [
    "df = pd.merge(df,contacts, on=['enc_order_id', 'country_code'], how='left')\n",
    "df.head()"
   ]
  },
  {
   "cell_type": "code",
   "execution_count": 56,
   "id": "ed28101f",
   "metadata": {},
   "outputs": [
    {
     "data": {
      "text/plain": [
       "3460862"
      ]
     },
     "execution_count": 56,
     "metadata": {},
     "output_type": "execute_result"
    }
   ],
   "source": [
    "df['enc_order_id'].count()"
   ]
  },
  {
   "cell_type": "code",
   "execution_count": 57,
   "id": "f2952feb",
   "metadata": {},
   "outputs": [
    {
     "data": {
      "text/html": [
       "<div>\n",
       "<style scoped>\n",
       "    .dataframe tbody tr th:only-of-type {\n",
       "        vertical-align: middle;\n",
       "    }\n",
       "\n",
       "    .dataframe tbody tr th {\n",
       "        vertical-align: top;\n",
       "    }\n",
       "\n",
       "    .dataframe thead th {\n",
       "        text-align: right;\n",
       "    }\n",
       "</style>\n",
       "<table border=\"1\" class=\"dataframe\">\n",
       "  <thead>\n",
       "    <tr style=\"text-align: right;\">\n",
       "      <th></th>\n",
       "      <th>country_code</th>\n",
       "      <th>enc_order_id</th>\n",
       "      <th>enc_customer_id</th>\n",
       "      <th>vertical</th>\n",
       "      <th>order_placed_at</th>\n",
       "      <th>status</th>\n",
       "      <th>order_value</th>\n",
       "      <th>cancelled_at</th>\n",
       "      <th>cancellation_owner</th>\n",
       "      <th>delivery_status_new</th>\n",
       "      <th>delivery_delay_secs</th>\n",
       "      <th>contact_reason</th>\n",
       "      <th>served_chat_ind</th>\n",
       "      <th>missed_chat_ind</th>\n",
       "    </tr>\n",
       "  </thead>\n",
       "  <tbody>\n",
       "    <tr>\n",
       "      <th>732187</th>\n",
       "      <td>TH</td>\n",
       "      <td>92b7f7e2564b</td>\n",
       "      <td>a33f0dd51d8e</td>\n",
       "      <td>Restaurants</td>\n",
       "      <td>2021-03-04 18:42:10+00:00</td>\n",
       "      <td>DELIVERED</td>\n",
       "      <td>5.15</td>\n",
       "      <td>NaN</td>\n",
       "      <td>NaN</td>\n",
       "      <td>completed</td>\n",
       "      <td>-313.0</td>\n",
       "      <td>NaN</td>\n",
       "      <td>NaN</td>\n",
       "      <td>NaN</td>\n",
       "    </tr>\n",
       "    <tr>\n",
       "      <th>2641685</th>\n",
       "      <td>TH</td>\n",
       "      <td>0384d2f88e08</td>\n",
       "      <td>1465ba210df3</td>\n",
       "      <td>Restaurants</td>\n",
       "      <td>2021-03-21 11:06:42+00:00</td>\n",
       "      <td>DELIVERED</td>\n",
       "      <td>4.87</td>\n",
       "      <td>NaN</td>\n",
       "      <td>NaN</td>\n",
       "      <td>completed</td>\n",
       "      <td>-70.0</td>\n",
       "      <td>NaN</td>\n",
       "      <td>NaN</td>\n",
       "      <td>NaN</td>\n",
       "    </tr>\n",
       "    <tr>\n",
       "      <th>2655836</th>\n",
       "      <td>TH</td>\n",
       "      <td>3a4b9daa0ded</td>\n",
       "      <td>87820b92ac76</td>\n",
       "      <td>Restaurants</td>\n",
       "      <td>2021-03-04 16:00:19+00:00</td>\n",
       "      <td>DELIVERED</td>\n",
       "      <td>0.51</td>\n",
       "      <td>NaN</td>\n",
       "      <td>NaN</td>\n",
       "      <td>completed</td>\n",
       "      <td>118.0</td>\n",
       "      <td>NaN</td>\n",
       "      <td>NaN</td>\n",
       "      <td>NaN</td>\n",
       "    </tr>\n",
       "  </tbody>\n",
       "</table>\n",
       "</div>"
      ],
      "text/plain": [
       "        country_code  enc_order_id enc_customer_id     vertical  \\\n",
       "732187            TH  92b7f7e2564b    a33f0dd51d8e  Restaurants   \n",
       "2641685           TH  0384d2f88e08    1465ba210df3  Restaurants   \n",
       "2655836           TH  3a4b9daa0ded    87820b92ac76  Restaurants   \n",
       "\n",
       "                  order_placed_at     status  order_value cancelled_at  \\\n",
       "732187  2021-03-04 18:42:10+00:00  DELIVERED         5.15          NaN   \n",
       "2641685 2021-03-21 11:06:42+00:00  DELIVERED         4.87          NaN   \n",
       "2655836 2021-03-04 16:00:19+00:00  DELIVERED         0.51          NaN   \n",
       "\n",
       "        cancellation_owner delivery_status_new  delivery_delay_secs  \\\n",
       "732187                 NaN           completed               -313.0   \n",
       "2641685                NaN           completed                -70.0   \n",
       "2655836                NaN           completed                118.0   \n",
       "\n",
       "        contact_reason  served_chat_ind  missed_chat_ind  \n",
       "732187             NaN              NaN              NaN  \n",
       "2641685            NaN              NaN              NaN  \n",
       "2655836            NaN              NaN              NaN  "
      ]
     },
     "execution_count": 57,
     "metadata": {},
     "output_type": "execute_result"
    }
   ],
   "source": [
    "df[df['enc_order_id'].duplicated()]"
   ]
  },
  {
   "cell_type": "markdown",
   "id": "e1f063e5",
   "metadata": {},
   "source": [
    "## Seamless Vs Non-Seamless Orders"
   ]
  },
  {
   "cell_type": "code",
   "execution_count": 58,
   "id": "ecdd3058",
   "metadata": {},
   "outputs": [
    {
     "data": {
      "text/plain": [
       "order_type\n",
       "seamless        85.843325\n",
       "non_seamless    14.156675\n",
       "Name: count, dtype: float64"
      ]
     },
     "execution_count": 58,
     "metadata": {},
     "output_type": "execute_result"
    }
   ],
   "source": [
    "#Non-seamless orders\n",
    "#* cancellations ST\n",
    "#* delays\n",
    "#* customer support\n",
    "df['order_type'] = np.where((df['status']=='CANCELLED')|(df['delivery_status_new']=='delay')|(df['contact_reason'].notnull()==True),'non_seamless','seamless')\n",
    "(df['order_type'].value_counts() / df.shape[0]) * 100"
   ]
  },
  {
   "cell_type": "code",
   "execution_count": 59,
   "id": "2f017397",
   "metadata": {},
   "outputs": [],
   "source": [
    "df['is_cancelled'] = (df['status'] == 'CANCELLED').astype(int)\n",
    "df['is_delayed'] = (df['delivery_status_new'] == 'delay').astype(int)\n",
    "df['has_contact'] = df['contact_reason'].notna().astype(int)\n",
    "\n",
    "# Priority: Cancelled > Delayed > Contact\n",
    "conditions = [\n",
    "    df['is_cancelled'] == 1,\n",
    "    df['is_delayed'] == 1,\n",
    "    df['has_contact'] == 1\n",
    "]\n",
    "\n",
    "choices = ['CANCELLATION', 'DELAY', 'CONTACT']\n",
    "\n",
    "df['issue_type'] = np.select(conditions, choices, default='COMPLETED')"
   ]
  },
  {
   "cell_type": "code",
   "execution_count": 60,
   "id": "f4aab932",
   "metadata": {},
   "outputs": [],
   "source": [
    "a = df[df['order_type']=='non_seamless']"
   ]
  },
  {
   "cell_type": "code",
   "execution_count": 61,
   "id": "4dafb0cc",
   "metadata": {},
   "outputs": [
    {
     "data": {
      "text/plain": [
       "order_type\n",
       "seamless        2970919\n",
       "non_seamless     489943\n",
       "Name: count, dtype: int64"
      ]
     },
     "execution_count": 61,
     "metadata": {},
     "output_type": "execute_result"
    }
   ],
   "source": [
    "df['order_type'].value_counts() "
   ]
  },
  {
   "cell_type": "markdown",
   "id": "8a1fdee1",
   "metadata": {},
   "source": [
    "## Order Distribution - Seamless vs Non-seamless based on issue type"
   ]
  },
  {
   "cell_type": "code",
   "execution_count": 62,
   "id": "95ef22a7",
   "metadata": {
    "scrolled": false
   },
   "outputs": [
    {
     "data": {
      "text/html": [
       "<div>\n",
       "<style scoped>\n",
       "    .dataframe tbody tr th:only-of-type {\n",
       "        vertical-align: middle;\n",
       "    }\n",
       "\n",
       "    .dataframe tbody tr th {\n",
       "        vertical-align: top;\n",
       "    }\n",
       "\n",
       "    .dataframe thead th {\n",
       "        text-align: right;\n",
       "    }\n",
       "</style>\n",
       "<table border=\"1\" class=\"dataframe\">\n",
       "  <thead>\n",
       "    <tr style=\"text-align: right;\">\n",
       "      <th></th>\n",
       "      <th>issue_type</th>\n",
       "      <th>count</th>\n",
       "      <th>pct_of_all_orders</th>\n",
       "      <th>count_non_seamless</th>\n",
       "      <th>pct_of_non_seamless</th>\n",
       "    </tr>\n",
       "  </thead>\n",
       "  <tbody>\n",
       "    <tr>\n",
       "      <th>0</th>\n",
       "      <td>COMPLETED</td>\n",
       "      <td>2970919</td>\n",
       "      <td>85.84</td>\n",
       "      <td>NaN</td>\n",
       "      <td>NaN</td>\n",
       "    </tr>\n",
       "    <tr>\n",
       "      <th>1</th>\n",
       "      <td>DELAY</td>\n",
       "      <td>335850</td>\n",
       "      <td>9.70</td>\n",
       "      <td>335850.0</td>\n",
       "      <td>68.55</td>\n",
       "    </tr>\n",
       "    <tr>\n",
       "      <th>2</th>\n",
       "      <td>CANCELLATION</td>\n",
       "      <td>125720</td>\n",
       "      <td>3.63</td>\n",
       "      <td>125720.0</td>\n",
       "      <td>25.66</td>\n",
       "    </tr>\n",
       "    <tr>\n",
       "      <th>3</th>\n",
       "      <td>CONTACT</td>\n",
       "      <td>28373</td>\n",
       "      <td>0.82</td>\n",
       "      <td>28373.0</td>\n",
       "      <td>5.79</td>\n",
       "    </tr>\n",
       "  </tbody>\n",
       "</table>\n",
       "</div>"
      ],
      "text/plain": [
       "     issue_type    count  pct_of_all_orders  count_non_seamless  \\\n",
       "0     COMPLETED  2970919              85.84                 NaN   \n",
       "1         DELAY   335850               9.70            335850.0   \n",
       "2  CANCELLATION   125720               3.63            125720.0   \n",
       "3       CONTACT    28373               0.82             28373.0   \n",
       "\n",
       "   pct_of_non_seamless  \n",
       "0                  NaN  \n",
       "1                68.55  \n",
       "2                25.66  \n",
       "3                 5.79  "
      ]
     },
     "execution_count": 62,
     "metadata": {},
     "output_type": "execute_result"
    }
   ],
   "source": [
    "issue_counts = df['issue_type'].value_counts().reset_index()\n",
    "issue_counts.columns = ['issue_type', 'count']\n",
    "total_orders = df.shape[0]\n",
    "issue_counts['pct_of_all_orders'] = (issue_counts['count'] / total_orders * 100).round(2)\n",
    "total_non_seamless = a.shape[0]\n",
    "\n",
    "non_seamless_counts = a['issue_type'].value_counts().reset_index()\n",
    "non_seamless_counts.columns = ['issue_type', 'count_non_seamless']\n",
    "non_seamless_counts['pct_of_non_seamless'] = (\n",
    "    non_seamless_counts['count_non_seamless'] / total_non_seamless * 100\n",
    ").round(2)\n",
    "final = pd.merge(issue_counts, non_seamless_counts, on='issue_type', how='left')\n",
    "final"
   ]
  },
  {
   "cell_type": "code",
   "execution_count": 63,
   "id": "e729c59d",
   "metadata": {},
   "outputs": [
    {
     "data": {
      "text/html": [
       "<div>\n",
       "<style scoped>\n",
       "    .dataframe tbody tr th:only-of-type {\n",
       "        vertical-align: middle;\n",
       "    }\n",
       "\n",
       "    .dataframe tbody tr th {\n",
       "        vertical-align: top;\n",
       "    }\n",
       "\n",
       "    .dataframe thead th {\n",
       "        text-align: right;\n",
       "    }\n",
       "</style>\n",
       "<table border=\"1\" class=\"dataframe\">\n",
       "  <thead>\n",
       "    <tr style=\"text-align: right;\">\n",
       "      <th></th>\n",
       "      <th>vertical</th>\n",
       "      <th>cancellation_count</th>\n",
       "      <th>pct_of_cancellations</th>\n",
       "    </tr>\n",
       "  </thead>\n",
       "  <tbody>\n",
       "    <tr>\n",
       "      <th>0</th>\n",
       "      <td>Groceries</td>\n",
       "      <td>2003</td>\n",
       "      <td>1.59</td>\n",
       "    </tr>\n",
       "    <tr>\n",
       "      <th>1</th>\n",
       "      <td>Local shops</td>\n",
       "      <td>13657</td>\n",
       "      <td>10.86</td>\n",
       "    </tr>\n",
       "    <tr>\n",
       "      <th>2</th>\n",
       "      <td>Restaurants</td>\n",
       "      <td>110042</td>\n",
       "      <td>87.54</td>\n",
       "    </tr>\n",
       "  </tbody>\n",
       "</table>\n",
       "</div>"
      ],
      "text/plain": [
       "      vertical  cancellation_count  pct_of_cancellations\n",
       "0    Groceries                2003                  1.59\n",
       "1  Local shops               13657                 10.86\n",
       "2  Restaurants              110042                 87.54"
      ]
     },
     "execution_count": 63,
     "metadata": {},
     "output_type": "execute_result"
    }
   ],
   "source": [
    "r = df[df['issue_type']=='CANCELLATION'].groupby('vertical')['enc_order_id'].count().reset_index()\n",
    "r.columns = ['vertical', 'cancellation_count']\n",
    "total = r['cancellation_count'].sum()\n",
    "r['pct_of_cancellations'] = (r['cancellation_count'] / total* 100).round(2)\n",
    "r"
   ]
  },
  {
   "cell_type": "code",
   "execution_count": 83,
   "id": "2892abfc",
   "metadata": {
    "scrolled": true
   },
   "outputs": [
    {
     "data": {
      "text/html": [
       "<div>\n",
       "<style scoped>\n",
       "    .dataframe tbody tr th:only-of-type {\n",
       "        vertical-align: middle;\n",
       "    }\n",
       "\n",
       "    .dataframe tbody tr th {\n",
       "        vertical-align: top;\n",
       "    }\n",
       "\n",
       "    .dataframe thead th {\n",
       "        text-align: right;\n",
       "    }\n",
       "</style>\n",
       "<table border=\"1\" class=\"dataframe\">\n",
       "  <thead>\n",
       "    <tr style=\"text-align: right;\">\n",
       "      <th></th>\n",
       "      <th>cancellation_owner</th>\n",
       "      <th>cancellation_count</th>\n",
       "      <th>pct_of_cancellations</th>\n",
       "    </tr>\n",
       "  </thead>\n",
       "  <tbody>\n",
       "    <tr>\n",
       "      <th>0</th>\n",
       "      <td>CUSTOMER</td>\n",
       "      <td>42342</td>\n",
       "      <td>36.67</td>\n",
       "    </tr>\n",
       "    <tr>\n",
       "      <th>1</th>\n",
       "      <td>PLATFORM</td>\n",
       "      <td>20</td>\n",
       "      <td>0.02</td>\n",
       "    </tr>\n",
       "    <tr>\n",
       "      <th>2</th>\n",
       "      <td>RIDER</td>\n",
       "      <td>34852</td>\n",
       "      <td>30.18</td>\n",
       "    </tr>\n",
       "    <tr>\n",
       "      <th>3</th>\n",
       "      <td>VENDOR</td>\n",
       "      <td>38264</td>\n",
       "      <td>33.14</td>\n",
       "    </tr>\n",
       "  </tbody>\n",
       "</table>\n",
       "</div>"
      ],
      "text/plain": [
       "  cancellation_owner  cancellation_count  pct_of_cancellations\n",
       "0           CUSTOMER               42342                 36.67\n",
       "1           PLATFORM                  20                  0.02\n",
       "2              RIDER               34852                 30.18\n",
       "3             VENDOR               38264                 33.14"
      ]
     },
     "execution_count": 83,
     "metadata": {},
     "output_type": "execute_result"
    }
   ],
   "source": [
    "r = df[df['issue_type']=='CANCELLATION'].groupby('cancellation_owner')['enc_order_id'].count().reset_index()\n",
    "r.columns = ['cancellation_owner', 'cancellation_count']\n",
    "total = r['cancellation_count'].sum()\n",
    "r['pct_of_cancellations'] = (r['cancellation_count'] / total* 100).round(2)\n",
    "r"
   ]
  },
  {
   "cell_type": "markdown",
   "id": "981a1d91",
   "metadata": {},
   "source": [
    "### Cancellation Share"
   ]
  },
  {
   "cell_type": "code",
   "execution_count": 64,
   "id": "66aa897d",
   "metadata": {},
   "outputs": [
    {
     "data": {
      "text/html": [
       "<div>\n",
       "<style scoped>\n",
       "    .dataframe tbody tr th:only-of-type {\n",
       "        vertical-align: middle;\n",
       "    }\n",
       "\n",
       "    .dataframe tbody tr th {\n",
       "        vertical-align: top;\n",
       "    }\n",
       "\n",
       "    .dataframe thead th {\n",
       "        text-align: right;\n",
       "    }\n",
       "</style>\n",
       "<table border=\"1\" class=\"dataframe\">\n",
       "  <thead>\n",
       "    <tr style=\"text-align: right;\">\n",
       "      <th>cancellation_owner</th>\n",
       "      <th>vertical</th>\n",
       "      <th>CUSTOMER</th>\n",
       "      <th>PLATFORM</th>\n",
       "      <th>RIDER</th>\n",
       "      <th>VENDOR</th>\n",
       "      <th>Total</th>\n",
       "    </tr>\n",
       "  </thead>\n",
       "  <tbody>\n",
       "    <tr>\n",
       "      <th>0</th>\n",
       "      <td>Groceries</td>\n",
       "      <td>24.56</td>\n",
       "      <td>0.00</td>\n",
       "      <td>35.01</td>\n",
       "      <td>40.43</td>\n",
       "      <td>100.0</td>\n",
       "    </tr>\n",
       "    <tr>\n",
       "      <th>1</th>\n",
       "      <td>Local shops</td>\n",
       "      <td>12.54</td>\n",
       "      <td>0.00</td>\n",
       "      <td>36.38</td>\n",
       "      <td>51.08</td>\n",
       "      <td>100.0</td>\n",
       "    </tr>\n",
       "    <tr>\n",
       "      <th>2</th>\n",
       "      <td>Restaurants</td>\n",
       "      <td>39.49</td>\n",
       "      <td>0.02</td>\n",
       "      <td>29.43</td>\n",
       "      <td>31.06</td>\n",
       "      <td>100.0</td>\n",
       "    </tr>\n",
       "  </tbody>\n",
       "</table>\n",
       "</div>"
      ],
      "text/plain": [
       "cancellation_owner     vertical  CUSTOMER  PLATFORM  RIDER  VENDOR  Total\n",
       "0                     Groceries     24.56      0.00  35.01   40.43  100.0\n",
       "1                   Local shops     12.54      0.00  36.38   51.08  100.0\n",
       "2                   Restaurants     39.49      0.02  29.43   31.06  100.0"
      ]
     },
     "execution_count": 64,
     "metadata": {},
     "output_type": "execute_result"
    }
   ],
   "source": [
    "cancel_summary = df[df['issue_type']=='CANCELLATION'].groupby(['vertical', 'cancellation_owner'])['enc_order_id'].count().reset_index()\n",
    "cancel_summary.columns = ['vertical', 'cancellation_owner', 'cancellation_count']\n",
    "cancel_summary['pct_within_vertical'] = cancel_summary.groupby('vertical')['cancellation_count'] \\\n",
    "                                                      .transform(lambda x: (x / x.sum() * 100).round(2))\n",
    "\n",
    "pivot_cancel = cancel_summary.pivot(\n",
    "    index='vertical',\n",
    "    columns='cancellation_owner',\n",
    "    values='cancellation_count'\n",
    ").fillna(0)\n",
    "\n",
    "pivot_cancel = pivot_cancel.astype(float)\n",
    "pivot_cancel['Total'] = pivot_cancel.sum(axis=1)\n",
    "pivot_pct = pivot_cancel.div(pivot_cancel['Total'], axis=0) * 100\n",
    "\n",
    "pivot_pct = pivot_pct.round(2)\n",
    "\n",
    "pivot_pct = pivot_pct.reset_index()\n",
    "pivot_pct"
   ]
  },
  {
   "cell_type": "code",
   "execution_count": 65,
   "id": "dc96f857",
   "metadata": {},
   "outputs": [
    {
     "data": {
      "text/plain": [
       "has_contact\n",
       "0    90.683264\n",
       "1     9.316736\n",
       "Name: count, dtype: float64"
      ]
     },
     "execution_count": 65,
     "metadata": {},
     "output_type": "execute_result"
    }
   ],
   "source": [
    "df[(df['status']=='CANCELLED')]['has_contact'].value_counts() / (df[(df['status']=='CANCELLED')].shape[0]) * 100"
   ]
  },
  {
   "cell_type": "markdown",
   "id": "c2758188",
   "metadata": {},
   "source": [
    "### Cancellation - Customer service contact reason"
   ]
  },
  {
   "cell_type": "code",
   "execution_count": 66,
   "id": "57acba6c",
   "metadata": {
    "scrolled": true
   },
   "outputs": [
    {
     "data": {
      "text/plain": [
       "array([nan, \"Order marked as delivered but didn't receive\", 'Food items',\n",
       "       'Automations - Missed Contact',\n",
       "       'Request: order is late, does not want to wait',\n",
       "       'Delivery time/date', 'Spilled food', 'Address',\n",
       "       'Check order status', 'Cancellation reason inquiry',\n",
       "       'Complain about late order', 'Wrong order', 'Contact without CR',\n",
       "       'Complaint: logistics cancellation', 'Other live order inquiry',\n",
       "       'Wrong item', 'Request: order will take longer than expected',\n",
       "       'Rating / review inquiry', 'Request: changed mind',\n",
       "       'Food temperature', 'App issue', 'Order never arrived',\n",
       "       'Refund query', 'Missing item', 'Follow up on existing case',\n",
       "       'Delivery instructions', 'Food quality', 'Voucher already used',\n",
       "       'Online payment issue', 'Request: accidental order',\n",
       "       'Cooking instructions', 'Information request',\n",
       "       'Voucher not received', 'Request: voucher not applied',\n",
       "       'Payment method', 'Foreign Object',\n",
       "       'Order not assigned to a rider', 'Refund request',\n",
       "       'Food poisoning', 'Food portion', 'Cannot apply',\n",
       "       'Order tracking issue', 'Request: duplicated order',\n",
       "       'ETA is stuck or increasing', 'Expired Item', 'Damaged item',\n",
       "       \"Restaurant hasn't started preparing the food\",\n",
       "       'Non-live order inquiry', 'Cooking instructions were not followed',\n",
       "       \"Rider wasn't compliant with contactless rules\", 'Negative',\n",
       "       'Change expedition type', 'Voucher request',\n",
       "       'Rider related inquiry',\n",
       "       'Request: order modification not possible',\n",
       "       'Money collection issue', 'Other voucher inquiry',\n",
       "       'Change account details', 'Voucher',\n",
       "       \"Didn't receive order confirmation\", 'Partner cancellation',\n",
       "       'Inappropriate behaviour', 'Severe delay',\n",
       "       'Promotion/discount not applied', 'Account deletion',\n",
       "       'Partner related inquiry', 'Offline payment issue',\n",
       "       'Loyalty program inquiry',\n",
       "       'Request: Unable to locate pickup partner', 'Early delivery',\n",
       "       'Spam / Irrelevant', 'Order not delivered to doorstep',\n",
       "       'Order will not be processed', 'Contact Details',\n",
       "       'Food allergens - complain', 'Request: preorder by mistake',\n",
       "       'Delivery instructions not followed',\n",
       "       'Request: Partner closed for pickup', 'Menu price discrepancy',\n",
       "       'Promotions and deals inquiry', 'Voucher conditions',\n",
       "       'Payment method inquiry'], dtype=object)"
      ]
     },
     "execution_count": 66,
     "metadata": {},
     "output_type": "execute_result"
    }
   ],
   "source": [
    "cancellations = pd.merge(cancellations,con_df,on=['enc_order_id', 'country_code'], how='left')\n",
    "cancellations['contact_reason'].unique()"
   ]
  },
  {
   "cell_type": "code",
   "execution_count": 67,
   "id": "0c870980",
   "metadata": {},
   "outputs": [
    {
     "data": {
      "text/html": [
       "<div>\n",
       "<style scoped>\n",
       "    .dataframe tbody tr th:only-of-type {\n",
       "        vertical-align: middle;\n",
       "    }\n",
       "\n",
       "    .dataframe tbody tr th {\n",
       "        vertical-align: top;\n",
       "    }\n",
       "\n",
       "    .dataframe thead th {\n",
       "        text-align: right;\n",
       "    }\n",
       "</style>\n",
       "<table border=\"1\" class=\"dataframe\">\n",
       "  <thead>\n",
       "    <tr style=\"text-align: right;\">\n",
       "      <th></th>\n",
       "      <th>contact_reason</th>\n",
       "      <th>enc_order_id</th>\n",
       "    </tr>\n",
       "  </thead>\n",
       "  <tbody>\n",
       "    <tr>\n",
       "      <th>0</th>\n",
       "      <td>Wrong order</td>\n",
       "      <td>1146</td>\n",
       "    </tr>\n",
       "    <tr>\n",
       "      <th>1</th>\n",
       "      <td>Request: order will take longer than expected</td>\n",
       "      <td>978</td>\n",
       "    </tr>\n",
       "    <tr>\n",
       "      <th>2</th>\n",
       "      <td>Complain about late order</td>\n",
       "      <td>956</td>\n",
       "    </tr>\n",
       "    <tr>\n",
       "      <th>3</th>\n",
       "      <td>Request: order is late, does not want to wait</td>\n",
       "      <td>872</td>\n",
       "    </tr>\n",
       "    <tr>\n",
       "      <th>4</th>\n",
       "      <td>Order marked as delivered but didn't receive</td>\n",
       "      <td>830</td>\n",
       "    </tr>\n",
       "    <tr>\n",
       "      <th>5</th>\n",
       "      <td>Contact without CR</td>\n",
       "      <td>335</td>\n",
       "    </tr>\n",
       "    <tr>\n",
       "      <th>6</th>\n",
       "      <td>Refund query</td>\n",
       "      <td>261</td>\n",
       "    </tr>\n",
       "    <tr>\n",
       "      <th>7</th>\n",
       "      <td>Spilled food</td>\n",
       "      <td>243</td>\n",
       "    </tr>\n",
       "    <tr>\n",
       "      <th>8</th>\n",
       "      <td>Missing item</td>\n",
       "      <td>226</td>\n",
       "    </tr>\n",
       "    <tr>\n",
       "      <th>9</th>\n",
       "      <td>Wrong item</td>\n",
       "      <td>199</td>\n",
       "    </tr>\n",
       "  </tbody>\n",
       "</table>\n",
       "</div>"
      ],
      "text/plain": [
       "                                  contact_reason  enc_order_id\n",
       "0                                    Wrong order          1146\n",
       "1  Request: order will take longer than expected           978\n",
       "2                      Complain about late order           956\n",
       "3  Request: order is late, does not want to wait           872\n",
       "4   Order marked as delivered but didn't receive           830\n",
       "5                             Contact without CR           335\n",
       "6                                   Refund query           261\n",
       "7                                   Spilled food           243\n",
       "8                                   Missing item           226\n",
       "9                                     Wrong item           199"
      ]
     },
     "execution_count": 67,
     "metadata": {},
     "output_type": "execute_result"
    }
   ],
   "source": [
    "cancellations[(cancellations['cancellation_owner']=='RIDER')].groupby(['contact_reason'])['enc_order_id'].nunique().sort_values(ascending=False).head(10).reset_index()"
   ]
  },
  {
   "cell_type": "code",
   "execution_count": 68,
   "id": "a610603f",
   "metadata": {},
   "outputs": [
    {
     "data": {
      "text/html": [
       "<div>\n",
       "<style scoped>\n",
       "    .dataframe tbody tr th:only-of-type {\n",
       "        vertical-align: middle;\n",
       "    }\n",
       "\n",
       "    .dataframe tbody tr th {\n",
       "        vertical-align: top;\n",
       "    }\n",
       "\n",
       "    .dataframe thead th {\n",
       "        text-align: right;\n",
       "    }\n",
       "</style>\n",
       "<table border=\"1\" class=\"dataframe\">\n",
       "  <thead>\n",
       "    <tr style=\"text-align: right;\">\n",
       "      <th></th>\n",
       "      <th>contact_reason</th>\n",
       "      <th>enc_order_id</th>\n",
       "    </tr>\n",
       "  </thead>\n",
       "  <tbody>\n",
       "    <tr>\n",
       "      <th>0</th>\n",
       "      <td>Request: order will take longer than expected</td>\n",
       "      <td>1689</td>\n",
       "    </tr>\n",
       "    <tr>\n",
       "      <th>1</th>\n",
       "      <td>Request: order is late, does not want to wait</td>\n",
       "      <td>1246</td>\n",
       "    </tr>\n",
       "    <tr>\n",
       "      <th>2</th>\n",
       "      <td>Complain about late order</td>\n",
       "      <td>1227</td>\n",
       "    </tr>\n",
       "    <tr>\n",
       "      <th>3</th>\n",
       "      <td>Wrong order</td>\n",
       "      <td>1151</td>\n",
       "    </tr>\n",
       "    <tr>\n",
       "      <th>4</th>\n",
       "      <td>Delivery time/date</td>\n",
       "      <td>1075</td>\n",
       "    </tr>\n",
       "    <tr>\n",
       "      <th>5</th>\n",
       "      <td>Food items</td>\n",
       "      <td>851</td>\n",
       "    </tr>\n",
       "    <tr>\n",
       "      <th>6</th>\n",
       "      <td>Order marked as delivered but didn't receive</td>\n",
       "      <td>840</td>\n",
       "    </tr>\n",
       "    <tr>\n",
       "      <th>7</th>\n",
       "      <td>Request: changed mind</td>\n",
       "      <td>777</td>\n",
       "    </tr>\n",
       "    <tr>\n",
       "      <th>8</th>\n",
       "      <td>Refund query</td>\n",
       "      <td>707</td>\n",
       "    </tr>\n",
       "    <tr>\n",
       "      <th>9</th>\n",
       "      <td>Contact without CR</td>\n",
       "      <td>676</td>\n",
       "    </tr>\n",
       "    <tr>\n",
       "      <th>10</th>\n",
       "      <td>Address</td>\n",
       "      <td>397</td>\n",
       "    </tr>\n",
       "    <tr>\n",
       "      <th>11</th>\n",
       "      <td>Spilled food</td>\n",
       "      <td>277</td>\n",
       "    </tr>\n",
       "    <tr>\n",
       "      <th>12</th>\n",
       "      <td>Missing item</td>\n",
       "      <td>233</td>\n",
       "    </tr>\n",
       "    <tr>\n",
       "      <th>13</th>\n",
       "      <td>Request: accidental order</td>\n",
       "      <td>218</td>\n",
       "    </tr>\n",
       "    <tr>\n",
       "      <th>14</th>\n",
       "      <td>Order will not be processed</td>\n",
       "      <td>205</td>\n",
       "    </tr>\n",
       "  </tbody>\n",
       "</table>\n",
       "</div>"
      ],
      "text/plain": [
       "                                   contact_reason  enc_order_id\n",
       "0   Request: order will take longer than expected          1689\n",
       "1   Request: order is late, does not want to wait          1246\n",
       "2                       Complain about late order          1227\n",
       "3                                     Wrong order          1151\n",
       "4                              Delivery time/date          1075\n",
       "5                                      Food items           851\n",
       "6    Order marked as delivered but didn't receive           840\n",
       "7                           Request: changed mind           777\n",
       "8                                    Refund query           707\n",
       "9                              Contact without CR           676\n",
       "10                                        Address           397\n",
       "11                                   Spilled food           277\n",
       "12                                   Missing item           233\n",
       "13                      Request: accidental order           218\n",
       "14                    Order will not be processed           205"
      ]
     },
     "execution_count": 68,
     "metadata": {},
     "output_type": "execute_result"
    }
   ],
   "source": [
    "cancellations.groupby(['contact_reason'])['enc_order_id'].nunique().sort_values(ascending=False).head(15).reset_index()"
   ]
  },
  {
   "cell_type": "code",
   "execution_count": 69,
   "id": "1a6f9c20",
   "metadata": {},
   "outputs": [
    {
     "data": {
      "text/html": [
       "<div>\n",
       "<style scoped>\n",
       "    .dataframe tbody tr th:only-of-type {\n",
       "        vertical-align: middle;\n",
       "    }\n",
       "\n",
       "    .dataframe tbody tr th {\n",
       "        vertical-align: top;\n",
       "    }\n",
       "\n",
       "    .dataframe thead th {\n",
       "        text-align: right;\n",
       "    }\n",
       "</style>\n",
       "<table border=\"1\" class=\"dataframe\">\n",
       "  <thead>\n",
       "    <tr style=\"text-align: right;\">\n",
       "      <th></th>\n",
       "      <th>contact_reason</th>\n",
       "      <th>enc_order_id</th>\n",
       "    </tr>\n",
       "  </thead>\n",
       "  <tbody>\n",
       "    <tr>\n",
       "      <th>0</th>\n",
       "      <td>Refund query</td>\n",
       "      <td>354</td>\n",
       "    </tr>\n",
       "    <tr>\n",
       "      <th>1</th>\n",
       "      <td>Order will not be processed</td>\n",
       "      <td>185</td>\n",
       "    </tr>\n",
       "    <tr>\n",
       "      <th>2</th>\n",
       "      <td>Partner cancellation</td>\n",
       "      <td>137</td>\n",
       "    </tr>\n",
       "    <tr>\n",
       "      <th>3</th>\n",
       "      <td>Complain about late order</td>\n",
       "      <td>113</td>\n",
       "    </tr>\n",
       "    <tr>\n",
       "      <th>4</th>\n",
       "      <td>Voucher already used</td>\n",
       "      <td>112</td>\n",
       "    </tr>\n",
       "    <tr>\n",
       "      <th>5</th>\n",
       "      <td>Request: order will take longer than expected</td>\n",
       "      <td>99</td>\n",
       "    </tr>\n",
       "    <tr>\n",
       "      <th>6</th>\n",
       "      <td>Food items</td>\n",
       "      <td>91</td>\n",
       "    </tr>\n",
       "    <tr>\n",
       "      <th>7</th>\n",
       "      <td>Contact without CR</td>\n",
       "      <td>81</td>\n",
       "    </tr>\n",
       "    <tr>\n",
       "      <th>8</th>\n",
       "      <td>Request: changed mind</td>\n",
       "      <td>78</td>\n",
       "    </tr>\n",
       "    <tr>\n",
       "      <th>9</th>\n",
       "      <td>Cancellation reason inquiry</td>\n",
       "      <td>62</td>\n",
       "    </tr>\n",
       "  </tbody>\n",
       "</table>\n",
       "</div>"
      ],
      "text/plain": [
       "                                  contact_reason  enc_order_id\n",
       "0                                   Refund query           354\n",
       "1                    Order will not be processed           185\n",
       "2                           Partner cancellation           137\n",
       "3                      Complain about late order           113\n",
       "4                           Voucher already used           112\n",
       "5  Request: order will take longer than expected            99\n",
       "6                                     Food items            91\n",
       "7                             Contact without CR            81\n",
       "8                          Request: changed mind            78\n",
       "9                    Cancellation reason inquiry            62"
      ]
     },
     "execution_count": 69,
     "metadata": {},
     "output_type": "execute_result"
    }
   ],
   "source": [
    "cancellations[(cancellations['cancellation_owner']=='VENDOR')].groupby(['contact_reason'])['enc_order_id'].nunique().sort_values(ascending=False).head(10).reset_index()"
   ]
  },
  {
   "cell_type": "code",
   "execution_count": 70,
   "id": "7647a389",
   "metadata": {},
   "outputs": [
    {
     "data": {
      "text/html": [
       "<div>\n",
       "<style scoped>\n",
       "    .dataframe tbody tr th:only-of-type {\n",
       "        vertical-align: middle;\n",
       "    }\n",
       "\n",
       "    .dataframe tbody tr th {\n",
       "        vertical-align: top;\n",
       "    }\n",
       "\n",
       "    .dataframe thead th {\n",
       "        text-align: right;\n",
       "    }\n",
       "</style>\n",
       "<table border=\"1\" class=\"dataframe\">\n",
       "  <thead>\n",
       "    <tr style=\"text-align: right;\">\n",
       "      <th></th>\n",
       "      <th>contact_reason</th>\n",
       "      <th>enc_order_id</th>\n",
       "    </tr>\n",
       "  </thead>\n",
       "  <tbody>\n",
       "    <tr>\n",
       "      <th>0</th>\n",
       "      <td>Delivery time/date</td>\n",
       "      <td>953</td>\n",
       "    </tr>\n",
       "    <tr>\n",
       "      <th>1</th>\n",
       "      <td>Food items</td>\n",
       "      <td>675</td>\n",
       "    </tr>\n",
       "    <tr>\n",
       "      <th>2</th>\n",
       "      <td>Request: order will take longer than expected</td>\n",
       "      <td>610</td>\n",
       "    </tr>\n",
       "    <tr>\n",
       "      <th>3</th>\n",
       "      <td>Request: changed mind</td>\n",
       "      <td>551</td>\n",
       "    </tr>\n",
       "    <tr>\n",
       "      <th>4</th>\n",
       "      <td>Request: order is late, does not want to wait</td>\n",
       "      <td>333</td>\n",
       "    </tr>\n",
       "    <tr>\n",
       "      <th>5</th>\n",
       "      <td>Contact without CR</td>\n",
       "      <td>260</td>\n",
       "    </tr>\n",
       "    <tr>\n",
       "      <th>6</th>\n",
       "      <td>Address</td>\n",
       "      <td>233</td>\n",
       "    </tr>\n",
       "    <tr>\n",
       "      <th>7</th>\n",
       "      <td>Request: accidental order</td>\n",
       "      <td>194</td>\n",
       "    </tr>\n",
       "    <tr>\n",
       "      <th>8</th>\n",
       "      <td>Complain about late order</td>\n",
       "      <td>157</td>\n",
       "    </tr>\n",
       "    <tr>\n",
       "      <th>9</th>\n",
       "      <td>Request: order modification not possible</td>\n",
       "      <td>102</td>\n",
       "    </tr>\n",
       "  </tbody>\n",
       "</table>\n",
       "</div>"
      ],
      "text/plain": [
       "                                  contact_reason  enc_order_id\n",
       "0                             Delivery time/date           953\n",
       "1                                     Food items           675\n",
       "2  Request: order will take longer than expected           610\n",
       "3                          Request: changed mind           551\n",
       "4  Request: order is late, does not want to wait           333\n",
       "5                             Contact without CR           260\n",
       "6                                        Address           233\n",
       "7                      Request: accidental order           194\n",
       "8                      Complain about late order           157\n",
       "9       Request: order modification not possible           102"
      ]
     },
     "execution_count": 70,
     "metadata": {},
     "output_type": "execute_result"
    }
   ],
   "source": [
    "cancellations[(cancellations['cancellation_owner']=='CUSTOMER')].groupby(['contact_reason'])['enc_order_id'].nunique().sort_values(ascending=False).head(10).reset_index()"
   ]
  },
  {
   "cell_type": "markdown",
   "id": "7b080997",
   "metadata": {},
   "source": [
    "## Order Delay Share"
   ]
  },
  {
   "cell_type": "code",
   "execution_count": 71,
   "id": "646bd84e",
   "metadata": {},
   "outputs": [
    {
     "data": {
      "image/png": "[encoded data removed]",
      "text/plain": [
       "<Figure size 1500x500 with 2 Axes>"
      ]
     },
     "metadata": {},
     "output_type": "display_data"
    }
   ],
   "source": [
    "# Calculate delay in seconds\n",
    "delv = deliveries[deliveries['delivery_delay_secs'] > 0]  \n",
    "a = delv['delivery_delay_secs'].quantile(0.99)\n",
    "deliver = delv[delv['delivery_delay_secs']<a]\n",
    "\n",
    "plt.figure(figsize=(15, 5))\n",
    "\n",
    "# Histogram\n",
    "plt.subplot(1, 2, 1)\n",
    "sns.histplot(deliver['delivery_delay_secs'], bins=50, kde=True, color='skyblue')\n",
    "plt.title('Histogram of Delivery Delays')\n",
    "plt.xlabel('Delay (seconds)')\n",
    "plt.ylabel('Order Count')\n",
    "\n",
    "# Boxplot\n",
    "plt.subplot(1, 2, 2)\n",
    "sns.boxplot(x=deliver['delivery_delay_secs'], color='lightcoral')\n",
    "plt.title('Boxplot of Delivery Delays')\n",
    "plt.xlabel('Delay (seconds)')\n",
    "\n",
    "plt.tight_layout()\n",
    "plt.show()"
   ]
  },
  {
   "cell_type": "code",
   "execution_count": 72,
   "id": "1b03e188",
   "metadata": {},
   "outputs": [
    {
     "data": {
      "text/plain": [
       "count    3.367876e+06\n",
       "mean    -1.578251e+02\n",
       "std      7.721362e+02\n",
       "min     -5.159700e+04\n",
       "25%     -5.030000e+02\n",
       "50%     -1.610000e+02\n",
       "75%      1.680000e+02\n",
       "90%      6.010000e+02\n",
       "max      1.932100e+04\n",
       "Name: delivery_delay_secs, dtype: float64"
      ]
     },
     "execution_count": 72,
     "metadata": {},
     "output_type": "execute_result"
    }
   ],
   "source": [
    "delay_summary = deliveries['delivery_delay_secs'].describe(percentiles=[0.25, 0.5, 0.75, 0.9])\n",
    "delay_summary"
   ]
  },
  {
   "cell_type": "markdown",
   "id": "40ce5c97",
   "metadata": {},
   "source": [
    "### Order delay classification - Noticeable and long delay"
   ]
  },
  {
   "cell_type": "code",
   "execution_count": 73,
   "id": "f542abd8",
   "metadata": {
    "scrolled": false
   },
   "outputs": [
    {
     "data": {
      "text/html": [
       "<div>\n",
       "<style scoped>\n",
       "    .dataframe tbody tr th:only-of-type {\n",
       "        vertical-align: middle;\n",
       "    }\n",
       "\n",
       "    .dataframe tbody tr th {\n",
       "        vertical-align: top;\n",
       "    }\n",
       "\n",
       "    .dataframe thead th {\n",
       "        text-align: right;\n",
       "    }\n",
       "</style>\n",
       "<table border=\"1\" class=\"dataframe\">\n",
       "  <thead>\n",
       "    <tr style=\"text-align: right;\">\n",
       "      <th></th>\n",
       "      <th>delay_bucket</th>\n",
       "      <th>order_count</th>\n",
       "      <th>pct_of_delayed_orders</th>\n",
       "    </tr>\n",
       "  </thead>\n",
       "  <tbody>\n",
       "    <tr>\n",
       "      <th>3</th>\n",
       "      <td>not late</td>\n",
       "      <td>3116105</td>\n",
       "      <td>90.25</td>\n",
       "    </tr>\n",
       "    <tr>\n",
       "      <th>0</th>\n",
       "      <td>10-15 min late</td>\n",
       "      <td>141532</td>\n",
       "      <td>4.10</td>\n",
       "    </tr>\n",
       "    <tr>\n",
       "      <th>1</th>\n",
       "      <td>15-30 min late</td>\n",
       "      <td>141678</td>\n",
       "      <td>4.10</td>\n",
       "    </tr>\n",
       "    <tr>\n",
       "      <th>2</th>\n",
       "      <td>&gt;30 min late</td>\n",
       "      <td>53583</td>\n",
       "      <td>1.55</td>\n",
       "    </tr>\n",
       "  </tbody>\n",
       "</table>\n",
       "</div>"
      ],
      "text/plain": [
       "     delay_bucket  order_count  pct_of_delayed_orders\n",
       "3        not late      3116105                  90.25\n",
       "0  10-15 min late       141532                   4.10\n",
       "1  15-30 min late       141678                   4.10\n",
       "2    >30 min late        53583                   1.55"
      ]
     },
     "execution_count": 73,
     "metadata": {},
     "output_type": "execute_result"
    }
   ],
   "source": [
    "def classify_delay(d):\n",
    "    if (d>600) & (d<=900):\n",
    "        return '10-15 min late'\n",
    "    elif (d>900) & (d<=1800):\n",
    "        return '15-30 min late'\n",
    "    elif d>1800:\n",
    "        return '>30 min late'\n",
    "    else: \n",
    "        return 'not late'\n",
    "\n",
    "deliveries['delay_bucket'] = deliveries['delivery_delay_secs'].apply(classify_delay)\n",
    "\n",
    "delay_bucket = ['not late', '10-15 min late', '15-30 min late', '>30 min late']\n",
    "\n",
    "delay_summary = deliveries.groupby('delay_bucket')['enc_order_id'].count().reset_index()\n",
    "delay_summary.columns = ['delay_bucket', 'order_count']\n",
    "\n",
    "delay_summary['delay_bucket'] = pd.Categorical(delay_summary['delay_bucket'], categories=delay_bucket, ordered=True)\n",
    "\n",
    "delay_summary = delay_summary.sort_values('delay_bucket')\n",
    "\n",
    "total_delayed_orders = delay_summary['order_count'].sum()\n",
    "delay_summary['pct_of_delayed_orders'] = (delay_summary['order_count'] / total_delayed_orders * 100).round(2)\n",
    "\n",
    "delay_summary"
   ]
  },
  {
   "cell_type": "code",
   "execution_count": 74,
   "id": "46eb7998",
   "metadata": {},
   "outputs": [
    {
     "data": {
      "text/html": [
       "<div>\n",
       "<style scoped>\n",
       "    .dataframe tbody tr th:only-of-type {\n",
       "        vertical-align: middle;\n",
       "    }\n",
       "\n",
       "    .dataframe tbody tr th {\n",
       "        vertical-align: top;\n",
       "    }\n",
       "\n",
       "    .dataframe thead th {\n",
       "        text-align: right;\n",
       "    }\n",
       "</style>\n",
       "<table border=\"1\" class=\"dataframe\">\n",
       "  <thead>\n",
       "    <tr style=\"text-align: right;\">\n",
       "      <th></th>\n",
       "      <th>country_code</th>\n",
       "      <th>enc_order_id</th>\n",
       "      <th>enc_customer_id</th>\n",
       "      <th>vertical</th>\n",
       "      <th>order_placed_at</th>\n",
       "      <th>status</th>\n",
       "      <th>order_value</th>\n",
       "      <th>cancelled_at</th>\n",
       "      <th>cancellation_owner</th>\n",
       "      <th>delivery_status_new</th>\n",
       "      <th>delivery_delay_secs</th>\n",
       "      <th>contact_reason</th>\n",
       "      <th>served_chat_ind</th>\n",
       "      <th>missed_chat_ind</th>\n",
       "      <th>order_type</th>\n",
       "      <th>is_cancelled</th>\n",
       "      <th>is_delayed</th>\n",
       "      <th>has_contact</th>\n",
       "      <th>issue_type</th>\n",
       "      <th>delay_bucket</th>\n",
       "    </tr>\n",
       "  </thead>\n",
       "  <tbody>\n",
       "    <tr>\n",
       "      <th>0</th>\n",
       "      <td>MY</td>\n",
       "      <td>e3efd320f9b7</td>\n",
       "      <td>44d967520153</td>\n",
       "      <td>Restaurants</td>\n",
       "      <td>2021-03-29 04:50:36+00:00</td>\n",
       "      <td>DELIVERED</td>\n",
       "      <td>2.00</td>\n",
       "      <td>NaN</td>\n",
       "      <td>NaN</td>\n",
       "      <td>completed</td>\n",
       "      <td>93.0</td>\n",
       "      <td>NaN</td>\n",
       "      <td>NaN</td>\n",
       "      <td>NaN</td>\n",
       "      <td>seamless</td>\n",
       "      <td>0</td>\n",
       "      <td>0</td>\n",
       "      <td>0</td>\n",
       "      <td>COMPLETED</td>\n",
       "      <td>not late</td>\n",
       "    </tr>\n",
       "    <tr>\n",
       "      <th>1</th>\n",
       "      <td>MY</td>\n",
       "      <td>7147c1ffac6f</td>\n",
       "      <td>96848de95c01</td>\n",
       "      <td>Restaurants</td>\n",
       "      <td>2021-03-27 07:49:51+00:00</td>\n",
       "      <td>DELIVERED</td>\n",
       "      <td>2.07</td>\n",
       "      <td>NaN</td>\n",
       "      <td>NaN</td>\n",
       "      <td>delay</td>\n",
       "      <td>1692.0</td>\n",
       "      <td>NaN</td>\n",
       "      <td>NaN</td>\n",
       "      <td>NaN</td>\n",
       "      <td>non_seamless</td>\n",
       "      <td>0</td>\n",
       "      <td>1</td>\n",
       "      <td>0</td>\n",
       "      <td>DELAY</td>\n",
       "      <td>15-30 min late</td>\n",
       "    </tr>\n",
       "    <tr>\n",
       "      <th>2</th>\n",
       "      <td>MY</td>\n",
       "      <td>79343f6c20af</td>\n",
       "      <td>2e0142712577</td>\n",
       "      <td>Groceries</td>\n",
       "      <td>2021-03-03 08:25:52+00:00</td>\n",
       "      <td>DELIVERED</td>\n",
       "      <td>2.74</td>\n",
       "      <td>NaN</td>\n",
       "      <td>NaN</td>\n",
       "      <td>completed</td>\n",
       "      <td>267.0</td>\n",
       "      <td>NaN</td>\n",
       "      <td>NaN</td>\n",
       "      <td>NaN</td>\n",
       "      <td>seamless</td>\n",
       "      <td>0</td>\n",
       "      <td>0</td>\n",
       "      <td>0</td>\n",
       "      <td>COMPLETED</td>\n",
       "      <td>not late</td>\n",
       "    </tr>\n",
       "    <tr>\n",
       "      <th>3</th>\n",
       "      <td>MY</td>\n",
       "      <td>439217952d53</td>\n",
       "      <td>fc8759fabaa8</td>\n",
       "      <td>Restaurants</td>\n",
       "      <td>2021-03-16 05:32:37+00:00</td>\n",
       "      <td>DELIVERED</td>\n",
       "      <td>2.04</td>\n",
       "      <td>NaN</td>\n",
       "      <td>NaN</td>\n",
       "      <td>completed</td>\n",
       "      <td>-335.0</td>\n",
       "      <td>NaN</td>\n",
       "      <td>NaN</td>\n",
       "      <td>NaN</td>\n",
       "      <td>seamless</td>\n",
       "      <td>0</td>\n",
       "      <td>0</td>\n",
       "      <td>0</td>\n",
       "      <td>COMPLETED</td>\n",
       "      <td>not late</td>\n",
       "    </tr>\n",
       "    <tr>\n",
       "      <th>4</th>\n",
       "      <td>MY</td>\n",
       "      <td>3eeb2e8008b5</td>\n",
       "      <td>13e582c8cd6d</td>\n",
       "      <td>Restaurants</td>\n",
       "      <td>2021-03-24 07:22:14+00:00</td>\n",
       "      <td>DELIVERED</td>\n",
       "      <td>2.90</td>\n",
       "      <td>NaN</td>\n",
       "      <td>NaN</td>\n",
       "      <td>completed</td>\n",
       "      <td>270.0</td>\n",
       "      <td>NaN</td>\n",
       "      <td>NaN</td>\n",
       "      <td>NaN</td>\n",
       "      <td>seamless</td>\n",
       "      <td>0</td>\n",
       "      <td>0</td>\n",
       "      <td>0</td>\n",
       "      <td>COMPLETED</td>\n",
       "      <td>not late</td>\n",
       "    </tr>\n",
       "  </tbody>\n",
       "</table>\n",
       "</div>"
      ],
      "text/plain": [
       "  country_code  enc_order_id enc_customer_id     vertical  \\\n",
       "0           MY  e3efd320f9b7    44d967520153  Restaurants   \n",
       "1           MY  7147c1ffac6f    96848de95c01  Restaurants   \n",
       "2           MY  79343f6c20af    2e0142712577    Groceries   \n",
       "3           MY  439217952d53    fc8759fabaa8  Restaurants   \n",
       "4           MY  3eeb2e8008b5    13e582c8cd6d  Restaurants   \n",
       "\n",
       "            order_placed_at     status  order_value cancelled_at  \\\n",
       "0 2021-03-29 04:50:36+00:00  DELIVERED         2.00          NaN   \n",
       "1 2021-03-27 07:49:51+00:00  DELIVERED         2.07          NaN   \n",
       "2 2021-03-03 08:25:52+00:00  DELIVERED         2.74          NaN   \n",
       "3 2021-03-16 05:32:37+00:00  DELIVERED         2.04          NaN   \n",
       "4 2021-03-24 07:22:14+00:00  DELIVERED         2.90          NaN   \n",
       "\n",
       "  cancellation_owner delivery_status_new  delivery_delay_secs contact_reason  \\\n",
       "0                NaN           completed                 93.0            NaN   \n",
       "1                NaN               delay               1692.0            NaN   \n",
       "2                NaN           completed                267.0            NaN   \n",
       "3                NaN           completed               -335.0            NaN   \n",
       "4                NaN           completed                270.0            NaN   \n",
       "\n",
       "   served_chat_ind  missed_chat_ind    order_type  is_cancelled  is_delayed  \\\n",
       "0              NaN              NaN      seamless             0           0   \n",
       "1              NaN              NaN  non_seamless             0           1   \n",
       "2              NaN              NaN      seamless             0           0   \n",
       "3              NaN              NaN      seamless             0           0   \n",
       "4              NaN              NaN      seamless             0           0   \n",
       "\n",
       "   has_contact issue_type    delay_bucket  \n",
       "0            0  COMPLETED        not late  \n",
       "1            0      DELAY  15-30 min late  \n",
       "2            0  COMPLETED        not late  \n",
       "3            0  COMPLETED        not late  \n",
       "4            0  COMPLETED        not late  "
      ]
     },
     "execution_count": 74,
     "metadata": {},
     "output_type": "execute_result"
    }
   ],
   "source": [
    "df = pd.merge(df,deliveries[['enc_order_id', 'country_code', 'delay_bucket']],on=['enc_order_id', 'country_code'], how='left')\n",
    "df.head()"
   ]
  },
  {
   "cell_type": "code",
   "execution_count": 75,
   "id": "d311b33c",
   "metadata": {},
   "outputs": [
    {
     "data": {
      "text/html": [
       "<div>\n",
       "<style scoped>\n",
       "    .dataframe tbody tr th:only-of-type {\n",
       "        vertical-align: middle;\n",
       "    }\n",
       "\n",
       "    .dataframe tbody tr th {\n",
       "        vertical-align: top;\n",
       "    }\n",
       "\n",
       "    .dataframe thead th {\n",
       "        text-align: right;\n",
       "    }\n",
       "</style>\n",
       "<table border=\"1\" class=\"dataframe\">\n",
       "  <thead>\n",
       "    <tr style=\"text-align: right;\">\n",
       "      <th></th>\n",
       "      <th></th>\n",
       "      <th>enc_order_id</th>\n",
       "    </tr>\n",
       "    <tr>\n",
       "      <th>cancellation_owner</th>\n",
       "      <th>delay_bucket</th>\n",
       "      <th></th>\n",
       "    </tr>\n",
       "  </thead>\n",
       "  <tbody>\n",
       "    <tr>\n",
       "      <th rowspan=\"4\" valign=\"top\">CUSTOMER</th>\n",
       "      <th>10-15 min late</th>\n",
       "      <td>23</td>\n",
       "    </tr>\n",
       "    <tr>\n",
       "      <th>15-30 min late</th>\n",
       "      <td>42</td>\n",
       "    </tr>\n",
       "    <tr>\n",
       "      <th>&gt;30 min late</th>\n",
       "      <td>41</td>\n",
       "    </tr>\n",
       "    <tr>\n",
       "      <th>not late</th>\n",
       "      <td>42302</td>\n",
       "    </tr>\n",
       "    <tr>\n",
       "      <th>PLATFORM</th>\n",
       "      <th>not late</th>\n",
       "      <td>18</td>\n",
       "    </tr>\n",
       "    <tr>\n",
       "      <th rowspan=\"4\" valign=\"top\">RIDER</th>\n",
       "      <th>10-15 min late</th>\n",
       "      <td>165</td>\n",
       "    </tr>\n",
       "    <tr>\n",
       "      <th>15-30 min late</th>\n",
       "      <td>212</td>\n",
       "    </tr>\n",
       "    <tr>\n",
       "      <th>&gt;30 min late</th>\n",
       "      <td>185</td>\n",
       "    </tr>\n",
       "    <tr>\n",
       "      <th>not late</th>\n",
       "      <td>34313</td>\n",
       "    </tr>\n",
       "    <tr>\n",
       "      <th rowspan=\"4\" valign=\"top\">VENDOR</th>\n",
       "      <th>10-15 min late</th>\n",
       "      <td>7</td>\n",
       "    </tr>\n",
       "    <tr>\n",
       "      <th>15-30 min late</th>\n",
       "      <td>13</td>\n",
       "    </tr>\n",
       "    <tr>\n",
       "      <th>&gt;30 min late</th>\n",
       "      <td>6</td>\n",
       "    </tr>\n",
       "    <tr>\n",
       "      <th>not late</th>\n",
       "      <td>38238</td>\n",
       "    </tr>\n",
       "  </tbody>\n",
       "</table>\n",
       "</div>"
      ],
      "text/plain": [
       "                                   enc_order_id\n",
       "cancellation_owner delay_bucket                \n",
       "CUSTOMER           10-15 min late            23\n",
       "                   15-30 min late            42\n",
       "                   >30 min late              41\n",
       "                   not late               42302\n",
       "PLATFORM           not late                  18\n",
       "RIDER              10-15 min late           165\n",
       "                   15-30 min late           212\n",
       "                   >30 min late             185\n",
       "                   not late               34313\n",
       "VENDOR             10-15 min late             7\n",
       "                   15-30 min late            13\n",
       "                   >30 min late               6\n",
       "                   not late               38238"
      ]
     },
     "execution_count": 75,
     "metadata": {},
     "output_type": "execute_result"
    }
   ],
   "source": [
    "df[['enc_order_id','cancellation_owner','delay_bucket']].groupby(['cancellation_owner','delay_bucket']).count()"
   ]
  },
  {
   "cell_type": "code",
   "execution_count": 76,
   "id": "5b9e73ef",
   "metadata": {
    "scrolled": true
   },
   "outputs": [
    {
     "data": {
      "text/html": [
       "<div>\n",
       "<style scoped>\n",
       "    .dataframe tbody tr th:only-of-type {\n",
       "        vertical-align: middle;\n",
       "    }\n",
       "\n",
       "    .dataframe tbody tr th {\n",
       "        vertical-align: top;\n",
       "    }\n",
       "\n",
       "    .dataframe thead th {\n",
       "        text-align: right;\n",
       "    }\n",
       "</style>\n",
       "<table border=\"1\" class=\"dataframe\">\n",
       "  <thead>\n",
       "    <tr style=\"text-align: right;\">\n",
       "      <th></th>\n",
       "      <th>enc_order_id</th>\n",
       "    </tr>\n",
       "    <tr>\n",
       "      <th>delay_bucket</th>\n",
       "      <th></th>\n",
       "    </tr>\n",
       "  </thead>\n",
       "  <tbody>\n",
       "    <tr>\n",
       "      <th>10-15 min late</th>\n",
       "      <td>141532</td>\n",
       "    </tr>\n",
       "    <tr>\n",
       "      <th>15-30 min late</th>\n",
       "      <td>141678</td>\n",
       "    </tr>\n",
       "    <tr>\n",
       "      <th>&gt;30 min late</th>\n",
       "      <td>53583</td>\n",
       "    </tr>\n",
       "    <tr>\n",
       "      <th>not late</th>\n",
       "      <td>3116105</td>\n",
       "    </tr>\n",
       "  </tbody>\n",
       "</table>\n",
       "</div>"
      ],
      "text/plain": [
       "                enc_order_id\n",
       "delay_bucket                \n",
       "10-15 min late        141532\n",
       "15-30 min late        141678\n",
       ">30 min late           53583\n",
       "not late             3116105"
      ]
     },
     "execution_count": 76,
     "metadata": {},
     "output_type": "execute_result"
    }
   ],
   "source": [
    "df[['enc_order_id','delay_bucket']].groupby(['delay_bucket']).count()"
   ]
  },
  {
   "cell_type": "code",
   "execution_count": 77,
   "id": "d075c519",
   "metadata": {
    "scrolled": true
   },
   "outputs": [
    {
     "data": {
      "text/html": [
       "<div>\n",
       "<style scoped>\n",
       "    .dataframe tbody tr th:only-of-type {\n",
       "        vertical-align: middle;\n",
       "    }\n",
       "\n",
       "    .dataframe tbody tr th {\n",
       "        vertical-align: top;\n",
       "    }\n",
       "\n",
       "    .dataframe thead th {\n",
       "        text-align: right;\n",
       "    }\n",
       "</style>\n",
       "<table border=\"1\" class=\"dataframe\">\n",
       "  <thead>\n",
       "    <tr style=\"text-align: right;\">\n",
       "      <th>vertical</th>\n",
       "      <th>Groceries</th>\n",
       "      <th>Local shops</th>\n",
       "      <th>Restaurants</th>\n",
       "    </tr>\n",
       "    <tr>\n",
       "      <th>delay_bucket</th>\n",
       "      <th></th>\n",
       "      <th></th>\n",
       "      <th></th>\n",
       "    </tr>\n",
       "  </thead>\n",
       "  <tbody>\n",
       "    <tr>\n",
       "      <th>10-15 min late</th>\n",
       "      <td>2431</td>\n",
       "      <td>2298</td>\n",
       "      <td>136802</td>\n",
       "    </tr>\n",
       "    <tr>\n",
       "      <th>15-30 min late</th>\n",
       "      <td>3076</td>\n",
       "      <td>2404</td>\n",
       "      <td>136198</td>\n",
       "    </tr>\n",
       "    <tr>\n",
       "      <th>&gt;30 min late</th>\n",
       "      <td>2310</td>\n",
       "      <td>1106</td>\n",
       "      <td>50166</td>\n",
       "    </tr>\n",
       "    <tr>\n",
       "      <th>not late</th>\n",
       "      <td>57703</td>\n",
       "      <td>69867</td>\n",
       "      <td>2988519</td>\n",
       "    </tr>\n",
       "  </tbody>\n",
       "</table>\n",
       "</div>"
      ],
      "text/plain": [
       "vertical        Groceries  Local shops  Restaurants\n",
       "delay_bucket                                       \n",
       "10-15 min late       2431         2298       136802\n",
       "15-30 min late       3076         2404       136198\n",
       ">30 min late         2310         1106        50166\n",
       "not late            57703        69867      2988519"
      ]
     },
     "execution_count": 77,
     "metadata": {},
     "output_type": "execute_result"
    }
   ],
   "source": [
    "r = df[['delay_bucket','vertical','enc_order_id']].groupby(['delay_bucket','vertical']).count().reset_index()\n",
    "r = r.rename(columns={'enc_order_id': 'count'})\n",
    "p = r.pivot(index='delay_bucket', columns='vertical', values='count').fillna(0)\n",
    "p"
   ]
  },
  {
   "cell_type": "markdown",
   "id": "124c9938",
   "metadata": {},
   "source": [
    "### Issues -> Customer Service contact"
   ]
  },
  {
   "cell_type": "code",
   "execution_count": 78,
   "id": "ecb1793f",
   "metadata": {},
   "outputs": [
    {
     "data": {
      "text/html": [
       "<div>\n",
       "<style scoped>\n",
       "    .dataframe tbody tr th:only-of-type {\n",
       "        vertical-align: middle;\n",
       "    }\n",
       "\n",
       "    .dataframe tbody tr th {\n",
       "        vertical-align: top;\n",
       "    }\n",
       "\n",
       "    .dataframe thead th {\n",
       "        text-align: right;\n",
       "    }\n",
       "</style>\n",
       "<table border=\"1\" class=\"dataframe\">\n",
       "  <thead>\n",
       "    <tr style=\"text-align: right;\">\n",
       "      <th></th>\n",
       "      <th>issue_type</th>\n",
       "      <th>order_count</th>\n",
       "      <th>has_contact_sum</th>\n",
       "    </tr>\n",
       "  </thead>\n",
       "  <tbody>\n",
       "    <tr>\n",
       "      <th>0</th>\n",
       "      <td>CANCELLATION</td>\n",
       "      <td>125720</td>\n",
       "      <td>11713</td>\n",
       "    </tr>\n",
       "    <tr>\n",
       "      <th>1</th>\n",
       "      <td>COMPLETED</td>\n",
       "      <td>2970916</td>\n",
       "      <td>0</td>\n",
       "    </tr>\n",
       "    <tr>\n",
       "      <th>2</th>\n",
       "      <td>CONTACT</td>\n",
       "      <td>28373</td>\n",
       "      <td>28373</td>\n",
       "    </tr>\n",
       "    <tr>\n",
       "      <th>3</th>\n",
       "      <td>DELAY</td>\n",
       "      <td>335850</td>\n",
       "      <td>16999</td>\n",
       "    </tr>\n",
       "  </tbody>\n",
       "</table>\n",
       "</div>"
      ],
      "text/plain": [
       "     issue_type  order_count  has_contact_sum\n",
       "0  CANCELLATION       125720            11713\n",
       "1     COMPLETED      2970916                0\n",
       "2       CONTACT        28373            28373\n",
       "3         DELAY       335850            16999"
      ]
     },
     "execution_count": 78,
     "metadata": {},
     "output_type": "execute_result"
    }
   ],
   "source": [
    "df.groupby('issue_type').agg(\n",
    "    order_count=('enc_order_id', 'nunique'),\n",
    "    has_contact_sum=('has_contact', 'sum')\n",
    ").reset_index()"
   ]
  },
  {
   "cell_type": "markdown",
   "id": "cfc26720",
   "metadata": {},
   "source": [
    "### Delay order - customer service contact"
   ]
  },
  {
   "cell_type": "code",
   "execution_count": 79,
   "id": "34260601",
   "metadata": {
    "scrolled": true
   },
   "outputs": [
    {
     "data": {
      "text/html": [
       "<div>\n",
       "<style scoped>\n",
       "    .dataframe tbody tr th:only-of-type {\n",
       "        vertical-align: middle;\n",
       "    }\n",
       "\n",
       "    .dataframe tbody tr th {\n",
       "        vertical-align: top;\n",
       "    }\n",
       "\n",
       "    .dataframe thead th {\n",
       "        text-align: right;\n",
       "    }\n",
       "</style>\n",
       "<table border=\"1\" class=\"dataframe\">\n",
       "  <thead>\n",
       "    <tr style=\"text-align: right;\">\n",
       "      <th></th>\n",
       "      <th>delay_bucket</th>\n",
       "      <th>order_count</th>\n",
       "      <th>has_contact_sum</th>\n",
       "    </tr>\n",
       "  </thead>\n",
       "  <tbody>\n",
       "    <tr>\n",
       "      <th>0</th>\n",
       "      <td>10-15 min late</td>\n",
       "      <td>141532</td>\n",
       "      <td>2721</td>\n",
       "    </tr>\n",
       "    <tr>\n",
       "      <th>1</th>\n",
       "      <td>15-30 min late</td>\n",
       "      <td>141678</td>\n",
       "      <td>6176</td>\n",
       "    </tr>\n",
       "    <tr>\n",
       "      <th>2</th>\n",
       "      <td>&gt;30 min late</td>\n",
       "      <td>53583</td>\n",
       "      <td>8645</td>\n",
       "    </tr>\n",
       "    <tr>\n",
       "      <th>3</th>\n",
       "      <td>not late</td>\n",
       "      <td>3116102</td>\n",
       "      <td>39439</td>\n",
       "    </tr>\n",
       "  </tbody>\n",
       "</table>\n",
       "</div>"
      ],
      "text/plain": [
       "     delay_bucket  order_count  has_contact_sum\n",
       "0  10-15 min late       141532             2721\n",
       "1  15-30 min late       141678             6176\n",
       "2    >30 min late        53583             8645\n",
       "3        not late      3116102            39439"
      ]
     },
     "execution_count": 79,
     "metadata": {},
     "output_type": "execute_result"
    }
   ],
   "source": [
    "df.groupby('delay_bucket').agg(\n",
    "    order_count=('enc_order_id', 'nunique'),\n",
    "    has_contact_sum=('has_contact', 'sum')\n",
    ").reset_index()"
   ]
  },
  {
   "cell_type": "code",
   "execution_count": 80,
   "id": "250c755f",
   "metadata": {},
   "outputs": [
    {
     "data": {
      "text/html": [
       "<div>\n",
       "<style scoped>\n",
       "    .dataframe tbody tr th:only-of-type {\n",
       "        vertical-align: middle;\n",
       "    }\n",
       "\n",
       "    .dataframe tbody tr th {\n",
       "        vertical-align: top;\n",
       "    }\n",
       "\n",
       "    .dataframe thead th {\n",
       "        text-align: right;\n",
       "    }\n",
       "</style>\n",
       "<table border=\"1\" class=\"dataframe\">\n",
       "  <thead>\n",
       "    <tr style=\"text-align: right;\">\n",
       "      <th></th>\n",
       "      <th>Type</th>\n",
       "      <th>Count</th>\n",
       "      <th>Percent</th>\n",
       "    </tr>\n",
       "  </thead>\n",
       "  <tbody>\n",
       "    <tr>\n",
       "      <th>0</th>\n",
       "      <td>Served Chats</td>\n",
       "      <td>55720</td>\n",
       "      <td>97.6%</td>\n",
       "    </tr>\n",
       "    <tr>\n",
       "      <th>1</th>\n",
       "      <td>Missed Chats</td>\n",
       "      <td>2810</td>\n",
       "      <td>4.9%</td>\n",
       "    </tr>\n",
       "  </tbody>\n",
       "</table>\n",
       "</div>"
      ],
      "text/plain": [
       "           Type  Count Percent\n",
       "0  Served Chats  55720   97.6%\n",
       "1  Missed Chats   2810    4.9%"
      ]
     },
     "execution_count": 80,
     "metadata": {},
     "output_type": "execute_result"
    }
   ],
   "source": [
    "# Total number of contact events\n",
    "contact_event = df[df['has_contact']>0]\n",
    "total_contacts = contact_event.shape[0]\n",
    "\n",
    "contact_event['served_chat_ind'] = np.where(contact_event['served_chat_ind']>0,1,0)\n",
    "contact_event['missed_chat_ind'] = np.where(contact_event['missed_chat_ind']>0,1,0)\n",
    "\n",
    "# Count served and missed\n",
    "served_count = contact_event['served_chat_ind'].sum()\n",
    "missed_count = contact_event['missed_chat_ind'].sum()\n",
    "\n",
    "# Percentages\n",
    "served_pct = round(served_count / total_contacts * 100, 1)\n",
    "missed_pct = round(missed_count / total_contacts * 100, 1)\n",
    "\n",
    "contact_summary = pd.DataFrame({\n",
    "    'Type': ['Served Chats', 'Missed Chats'],\n",
    "    'Count': [served_count, missed_count],\n",
    "    'Percent': [f\"{served_pct}%\", f\"{missed_pct}%\"]\n",
    "})\n",
    "contact_summary"
   ]
  },
  {
   "cell_type": "code",
   "execution_count": 81,
   "id": "2ec47a72",
   "metadata": {},
   "outputs": [
    {
     "data": {
      "text/plain": [
       "53583"
      ]
     },
     "execution_count": 81,
     "metadata": {},
     "output_type": "execute_result"
    }
   ],
   "source": [
    "df[df['delay_bucket']=='>30 min late']['issue_type'].count()"
   ]
  },
  {
   "cell_type": "code",
   "execution_count": null,
   "id": "e35fb296",
   "metadata": {},
   "outputs": [],
   "source": []
  }
 ],
 "metadata": {
  "kernelspec": {
   "display_name": "Python 3 (ipykernel)",
   "language": "python",
   "name": "python3"
  },
  "language_info": {
   "codemirror_mode": {
    "name": "ipython",
    "version": 3
   },
   "file_extension": ".py",
   "mimetype": "text/x-python",
   "name": "python",
   "nbconvert_exporter": "python",
   "pygments_lexer": "ipython3",
   "version": "3.10.17"
  }
 },
 "nbformat": 4,
 "nbformat_minor": 5
}
